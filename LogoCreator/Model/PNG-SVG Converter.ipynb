{
 "cells": [
  {
   "cell_type": "markdown",
   "metadata": {},
   "source": [
    "# This notebook is for PNG to SVG conversion "
   ]
  },
  {
   "cell_type": "markdown",
   "metadata": {},
   "source": [
    "###  For this task i used Vtrace from https://github.com/visioncortex/vtracer which is written in Rust but has a command line interface with input arguments. I wrapped it in Python so apart from Rust installation I used no Rust at all. It does pretty decent job with colors and better optimized than pixel-by-pixel kinds of solutions"
   ]
  },
  {
   "cell_type": "markdown",
   "metadata": {},
   "source": [
    "#### Install Rust. I use MacOs so I typed the following in terminal. "
   ]
  },
  {
   "cell_type": "code",
   "execution_count": null,
   "metadata": {},
   "outputs": [],
   "source": [
    "curl --proto '=https' --tlsv1.2 https://sh.rustup.rs -sSf | sh"
   ]
  },
  {
   "cell_type": "markdown",
   "metadata": {},
   "source": [
    "#### Then checked if cargo (Rust file management system ) is installed with Rust "
   ]
  },
  {
   "cell_type": "code",
   "execution_count": null,
   "metadata": {},
   "outputs": [],
   "source": [
    "cargo --version"
   ]
  },
  {
   "cell_type": "markdown",
   "metadata": {},
   "source": [
    "#### That is it with Rust. Install out package like following"
   ]
  },
  {
   "cell_type": "code",
   "execution_count": null,
   "metadata": {},
   "outputs": [],
   "source": [
    "cargo install vtracer"
   ]
  },
  {
   "cell_type": "markdown",
   "metadata": {},
   "source": [
    "#### You will see in terminal log something like /Users/samailguliyev/.cargo/bin/vtracer with your directory"
   ]
  },
  {
   "cell_type": "markdown",
   "metadata": {},
   "source": [
    "### This is how i used for  \"AAP-16x.png\" to \"AAP-16x.svg\" conversion:"
   ]
  },
  {
   "cell_type": "code",
   "execution_count": null,
   "metadata": {},
   "outputs": [],
   "source": [
    "/Users/samailguliyev/.cargo/bin/vtracer --input /Users/samailguliyev/Downloads/AAP-16x.png \n",
    "--output /Users/samailguliyev/Downloads/AAP-16x.svg"
   ]
  },
  {
   "cell_type": "markdown",
   "metadata": {},
   "source": [
    "#### Generally:     ./vtracer --input input.jpg --output output.svg"
   ]
  },
  {
   "cell_type": "markdown",
   "metadata": {},
   "source": [
    "## the higher is image quality the better is SVG. So here is a snippet to set larger size. Originally our .png files have 128 pixel width.  "
   ]
  },
  {
   "cell_type": "code",
   "execution_count": 1,
   "metadata": {},
   "outputs": [],
   "source": [
    "import subprocess\n",
    "import os\n",
    "from PIL import Image"
   ]
  },
  {
   "cell_type": "code",
   "execution_count": null,
   "metadata": {},
   "outputs": [],
   "source": [
    "\n",
    "#directory with png files \n",
    "\n",
    "for filename in os.listdir(directory):\n",
    "    if filename.endswith(\".png\"):\n",
    "        # set basewidth \n",
    "        basewidth = 900\n",
    "        img = Image.open(directory + \"/\"+ filename)\n",
    "        wpercent = (basewidth/float(img.size[0]))\n",
    "        hsize = int((float(img.size[1])*float(wpercent)))\n",
    "        img = img.resize((basewidth,hsize), Image.ANTIALIAS)\n",
    "        \n",
    "        #output is \"filaname_w_{basewidth}.png\"\n",
    "        \n",
    "        img.save(directory + \"/\"+ str(filename).split('.')[0] + f\"_w_{basewidth}\" + \".png\")"
   ]
  },
  {
   "cell_type": "markdown",
   "metadata": {},
   "source": [
    "# here lower is conversion of all png files to svg files."
   ]
  },
  {
   "cell_type": "code",
   "execution_count": 2,
   "metadata": {},
   "outputs": [
    {
     "name": "stdout",
     "output_type": "stream",
     "text": [
      "[]\n",
      "['/Users/samailguliyev/.cargo/bin/vtracer', '--input', '/Users/samailguliyev/team_project/deepsvg/deepsvg/notebooks/Logos/test_png_svg_folder/ABG.png', '--output', '/Users/samailguliyev/team_project/deepsvg/deepsvg/notebooks/Logos/test_png_svg_folder/ABG.svg']\n",
      "[]\n",
      "['/Users/samailguliyev/.cargo/bin/vtracer', '--input', '/Users/samailguliyev/team_project/deepsvg/deepsvg/notebooks/Logos/test_png_svg_folder/ABEO.png', '--output', '/Users/samailguliyev/team_project/deepsvg/deepsvg/notebooks/Logos/test_png_svg_folder/ABEO.svg']\n",
      "[]\n",
      "['/Users/samailguliyev/.cargo/bin/vtracer', '--input', '/Users/samailguliyev/team_project/deepsvg/deepsvg/notebooks/Logos/test_png_svg_folder/ABC.png', '--output', '/Users/samailguliyev/team_project/deepsvg/deepsvg/notebooks/Logos/test_png_svg_folder/ABC.svg']\n",
      "[]\n",
      "['/Users/samailguliyev/.cargo/bin/vtracer', '--input', '/Users/samailguliyev/team_project/deepsvg/deepsvg/notebooks/Logos/test_png_svg_folder/ABEV.png', '--output', '/Users/samailguliyev/team_project/deepsvg/deepsvg/notebooks/Logos/test_png_svg_folder/ABEV.svg']\n",
      "[]\n",
      "['/Users/samailguliyev/.cargo/bin/vtracer', '--input', '/Users/samailguliyev/team_project/deepsvg/deepsvg/notebooks/Logos/test_png_svg_folder/ABCB.png', '--output', '/Users/samailguliyev/team_project/deepsvg/deepsvg/notebooks/Logos/test_png_svg_folder/ABCB.svg']\n"
     ]
    }
   ],
   "source": [
    "#your directory with png files \n",
    "\n",
    "directory = '/Users/samailguliyev/team_project/deepsvg/deepsvg/notebooks/Logos/test_png_svg_folder'\n",
    "\n",
    "# the same command you saw before. Need to be as list to be executed\n",
    "command = ['/Users/samailguliyev/.cargo/bin/vtracer', '--input', '--output']\n",
    "\n",
    "\n",
    "for filename in os.listdir(directory):\n",
    "    if filename.endswith(\".png\"):\n",
    "        \n",
    "      #do smth\n",
    "    \n",
    "        # not the best way. For each .png file compile command line code as file_command \n",
    "        file_command=[]\n",
    "        \n",
    "        ## in this order \n",
    "        file_command.append(command[0])\n",
    "        file_command.append(command[1])\n",
    "        file_command.insert(2, directory + \"/\"+ str(filename).split('.')[0] + \".png\" )\n",
    "        file_command.append(command[2])\n",
    "        file_command.insert(4, directory + \"/\"+ str(filename).split('.')[0] + \".svg\" )\n",
    "        \n",
    "        \n",
    "        subprocess.run(file_command, capture_output = True)\n",
    "\n",
    "        \n",
    "        del file_command\n",
    "\n",
    "\n",
    "    else:\n",
    "        continue"
   ]
  },
  {
   "cell_type": "code",
   "execution_count": 3,
   "metadata": {},
   "outputs": [],
   "source": []
  },
  {
   "cell_type": "code",
   "execution_count": null,
   "metadata": {},
   "outputs": [],
   "source": []
  }
 ],
 "metadata": {
  "kernelspec": {
   "display_name": "Python 3",
   "language": "python",
   "name": "python3"
  },
  "language_info": {
   "codemirror_mode": {
    "name": "ipython",
    "version": 3
   },
   "file_extension": ".py",
   "mimetype": "text/x-python",
   "name": "python",
   "nbconvert_exporter": "python",
   "pygments_lexer": "ipython3",
   "version": "3.7.3"
  }
 },
 "nbformat": 4,
 "nbformat_minor": 2
}
