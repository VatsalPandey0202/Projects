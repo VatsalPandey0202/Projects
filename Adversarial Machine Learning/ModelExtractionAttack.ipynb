{
  "nbformat": 4,
  "nbformat_minor": 0,
  "metadata": {
    "colab": {
      "provenance": []
    },
    "kernelspec": {
      "name": "python3",
      "display_name": "Python 3"
    },
    "language_info": {
      "name": "python"
    },
    "gpuClass": "standard"
  },
  "cells": [
    {
      "cell_type": "markdown",
      "source": [
        "The code has been implemented in PyTorch. For performing model extraction attacks and defense I use IBM Art.\n",
        "<br>\n",
        "title = Adversarial Robustness Toolbox v1.2.0\n",
        "<br>\n",
        "author = Nicolae, Maria-Irina and Sinn, Mathieu and Tran, Minh~Ngoc and Buesser, Beat and Rawat, Ambrish and Wistuba, Martin and Zantedeschi, Valentina and Baracaldo, Nathalie and Chen, Bryant and Ludwig, Heiko and Molloy, Ian and Edwards, Ben\n",
        "<br>\n",
        "year = 2018\n",
        "<br>\n",
        "url = https://arxiv.org/pdf/1807.01069\n",
        "<br>\n",
        "github = https://github.com/Trusted-AI/adversarial-robustness-toolbox"
      ],
      "metadata": {
        "id": "TZczKVq5s13g"
      }
    },
    {
      "cell_type": "code",
      "source": [
        "!pip install adversarial-robustness-toolbox #Install IBM Art"
      ],
      "metadata": {
        "colab": {
          "base_uri": "https://localhost:8080/"
        },
        "id": "fDne-ks5HY-h",
        "outputId": "bb805c21-55f6-44bb-ddab-d509c3a55e63"
      },
      "execution_count": null,
      "outputs": [
        {
          "output_type": "stream",
          "name": "stdout",
          "text": [
            "Looking in indexes: https://pypi.org/simple, https://us-python.pkg.dev/colab-wheels/public/simple/\n",
            "Requirement already satisfied: adversarial-robustness-toolbox in /usr/local/lib/python3.8/dist-packages (1.13.0)\n",
            "Requirement already satisfied: scikit-learn<1.2.0,>=0.22.2 in /usr/local/lib/python3.8/dist-packages (from adversarial-robustness-toolbox) (1.0.2)\n",
            "Requirement already satisfied: scipy>=1.4.1 in /usr/local/lib/python3.8/dist-packages (from adversarial-robustness-toolbox) (1.7.3)\n",
            "Requirement already satisfied: six in /usr/local/lib/python3.8/dist-packages (from adversarial-robustness-toolbox) (1.15.0)\n",
            "Requirement already satisfied: tqdm in /usr/local/lib/python3.8/dist-packages (from adversarial-robustness-toolbox) (4.64.1)\n",
            "Requirement already satisfied: setuptools in /usr/local/lib/python3.8/dist-packages (from adversarial-robustness-toolbox) (57.4.0)\n",
            "Requirement already satisfied: numpy>=1.18.0 in /usr/local/lib/python3.8/dist-packages (from adversarial-robustness-toolbox) (1.21.6)\n",
            "Requirement already satisfied: joblib>=0.11 in /usr/local/lib/python3.8/dist-packages (from scikit-learn<1.2.0,>=0.22.2->adversarial-robustness-toolbox) (1.2.0)\n",
            "Requirement already satisfied: threadpoolctl>=2.0.0 in /usr/local/lib/python3.8/dist-packages (from scikit-learn<1.2.0,>=0.22.2->adversarial-robustness-toolbox) (3.1.0)\n"
          ]
        }
      ]
    },
    {
      "cell_type": "markdown",
      "source": [
        "The code is importing various libraries and modules for machine learning and adversarial machine learning tasks. Here's a brief explanation of what each section does:\n",
        "\n",
        "1. **Importing Libraries**:\n",
        "   - Torch and Torchvision are imported for deep learning tasks.\n",
        "   - Numpy and Pandas are imported for data manipulation.\n",
        "   - Matplotlib is imported for data visualization.\n",
        "   - The `%matplotlib inline` command is used to display Matplotlib plots in the Jupyter Notebook.\n",
        "   - The `art` (Adversarial Robustness Toolbox) library is imported for adversarial machine learning.\n",
        "\n",
        "2. **Creating a PyTorch Classifier**:\n",
        "   - It is used to create a PyTorch-based classifier using the `PyTorchClassifier` class from the `art` library. This classifier can be used for adversarial attacks and defenses.\n",
        "\n",
        "3. **Importing MNIST Dataset**:\n",
        "   - The code loads the MNIST dataset which is used for training and evaluation.\n",
        "\n",
        "4. **Importing Adversarial Attacks and Defenses**:\n",
        "   - The code imports various adversarial attacks and defenses from the `art` library:\n",
        "     - `ExtractionAttack`: This is the base class for adversarial extraction attacks.\n",
        "     - `CopycatCNN`: An adversarial attack class that attempts to clone a target model by training a copycat model.\n",
        "     - `KnockoffNets`: An adversarial attack class that attempts to extract a target model's architecture.\n",
        "     - `GaussianNoise`: A post-processing defense technique that adds Gaussian noise to the model's outputs.\n",
        "     - `ReverseSigmoid`: A post-processing defense technique that applies the reverse sigmoid function to model outputs."
      ],
      "metadata": {
        "id": "FzbHQ2zSvOyo"
      }
    },
    {
      "cell_type": "code",
      "source": [
        "import torch\n",
        "import torch.nn as nn\n",
        "import torchvision.transforms as transforms\n",
        "import torchvision.datasets as dsets\n",
        "\n",
        "import numpy as np\n",
        "import pandas as pd\n",
        "import matplotlib.pyplot as plt\n",
        "%matplotlib inline\n",
        "\n",
        "import art\n",
        "from art.estimators.classification import PyTorchClassifier\n",
        "from art.utils import load_mnist\n",
        "from art.attacks import ExtractionAttack\n",
        "from art.attacks.extraction import CopycatCNN, KnockoffNets\n",
        "from art.defences.postprocessor import GaussianNoise\n",
        "from art.defences.postprocessor import ReverseSigmoid\n"
      ],
      "metadata": {
        "id": "Qa1f740VVLYZ"
      },
      "execution_count": null,
      "outputs": []
    },
    {
      "cell_type": "markdown",
      "source": [
        "# Load the dataset, and split the test data into test and steal datasets. x_test0 will be further split to steal the model\n",
        "In the code the following steps are performed to load a dataset, split it, and prepare it for further use:\n",
        "\n",
        "1. **Load the Dataset**:\n",
        "   - The code loads a dataset using the `load_mnist()` function. This is the MNIST dataset, which is a popular dataset of handwritten digits.\n",
        "   - The dataset is loaded into variables `(x_train, y_train)` and `(x_test0, y_test0)`.\n",
        "\n",
        "2. **Filtering and Reshaping Data**:\n",
        "   - The code filters the training and test data to select samples where the target labels are either 0 or 1.\n",
        "   - For both the training and test data, it rearranges the dimensions of the data using `np.transpose()` and reshapes it into a 2D format with 784 columns (28x28 image pixels).\n",
        "   - The data is cast to the `float32` data type.\n",
        "\n",
        "3. **Label Processing**:\n",
        "   - For the training data (`y_train`), it appears that one-hot encoded labels are converted into class labels by taking the index of the maximum value along the columns (axis 1).\n",
        "   - Similarly, for the test data (`y_test0`), one-hot encoded labels are converted into class labels in the same way.\n",
        "\n",
        "The result of these operations is that you have filtered and reshaped training and test datasets with binary class labels (0 or 1) suitable for further processing, for a binary classification task."
      ],
      "metadata": {
        "id": "lN9IqmgKv9ZX"
      }
    },
    {
      "cell_type": "code",
      "source": [
        "(x_train, y_train), (x_test0, y_test0), _, _ = load_mnist()\n",
        "idx = (np.argmax(y_train,axis=1)==0)|(np.argmax(y_train,axis=1)==1)\n",
        "x_train = np.transpose(x_train[idx], (0, 3, 1,2)).reshape(-1,784).astype('float32')\n",
        "y_train = np.argmax(y_train[idx],axis=1)\n",
        "idx = (np.argmax(y_test0,axis=1)==0)|(np.argmax(y_test0,axis=1)==1)\n",
        "x_test0 = np.transpose(x_test0[idx], (0, 3, 1,2)).reshape(-1,784).astype('float32')\n",
        "y_test0 = np.argmax(y_test0[idx],axis=1)"
      ],
      "metadata": {
        "id": "YbfQEF7xTrKt"
      },
      "execution_count": null,
      "outputs": []
    },
    {
      "cell_type": "markdown",
      "source": [
        "# Approximate Sigmoid function\n",
        "\n",
        "The code defines an approximate sigmoid function called `sigmoid_approx`. This function takes an input value and returns an approximation of the sigmoid function's output. Here's a breakdown of how the function works:\n",
        "\n",
        "- Input: `input` is the value for which you want to approximate the sigmoid function's output.\n",
        "\n",
        "- Approximation Formula: The function uses the following formula to approximate the sigmoid function:\n",
        "\n",
        "  ```\n",
        "  sigmoid_approx(input) = 0.5 + 0.197 * input - 0.004 * input^3\n",
        "  ```\n",
        "\n",
        "  - `0.5` is added to the result, which centers the sigmoid-like curve around `0.5`.\n",
        "  - `0.197 * input` is a linear term that contributes to the slope of the curve.\n",
        "  - `- 0.004 * input^3` is a cubic term that adds curvature to the curve.\n",
        "\n",
        "This function provides a simple and computationally efficient way to approximate the sigmoid function. While it may not be as accurate as the true sigmoid function, it can be useful in scenarios where a quick approximation is sufficient and computational resources are limited.\n",
        "\n",
        "You can use this `sigmoid_approx` function by passing a value as its input, and it will return the approximate sigmoid-like output for that value."
      ],
      "metadata": {
        "id": "lSHDhADZwJel"
      }
    },
    {
      "cell_type": "code",
      "source": [
        "def sigmoid_approx(input):\n",
        "    return  0.5 + 0.197*input - 0.004*input*input*input"
      ],
      "metadata": {
        "id": "kFMg4JcvuTSN"
      },
      "execution_count": null,
      "outputs": []
    },
    {
      "cell_type": "markdown",
      "source": [
        "The code defines two PyTorch models: `VictimModel` and `ThiefModel`. These models are used for binary classification tasks and both have a linear layer at their core, but they use different methods to apply the sigmoid activation function:\n",
        "\n",
        "1. `VictimModel`:\n",
        "   - `VictimModel` is a PyTorch neural network model for binary classification.\n",
        "   - It consists of a single linear layer defined as `nn.Linear(784, 1)`, indicating that it takes an input of dimension 784 (28x28 pixels) and outputs a single scalar value.\n",
        "   - In the `forward` method, after the linear transformation, it applies the `sigmoid_approx` function to the output of the linear layer, which approximates the sigmoid function.\n",
        "   - The `out` values are then clipped to ensure they are within the range [0, 1], where values less than 0 are set to 0 and values greater than 1 are set to 1.\n",
        "\n",
        "2. `ThiefModel`:\n",
        "   - `ThiefModel` is another PyTorch neural network model for binary classification.\n",
        "   - Like `VictimModel`, it also consists of a single linear layer with the same input and output dimensions.\n",
        "   - In the `forward` method, it applies the standard sigmoid activation function to the output of the linear layer using `torch.sigmoid`.\n",
        "\n",
        "Both models are designed for binary classification tasks, but `VictimModel` uses the `sigmoid_approx` function to approximate the sigmoid activation function, while `ThiefModel` uses the standard sigmoid function provided by PyTorch (`torch.sigmoid`).\n",
        "\n",
        "These models are used for tasks like image classification, where they take flattened images of size 784 as input and predict binary class labels."
      ],
      "metadata": {
        "id": "khL7qpE3wwk2"
      }
    },
    {
      "cell_type": "code",
      "source": [
        "#LR model using approximation\n",
        "class VictimModel(nn.Module):\n",
        "    def __init__(self):\n",
        "        super(VictimModel, self).__init__()\n",
        "        self.linear = nn.Linear(784, 1) #Input dimension is 784(28*28) and output is 1\n",
        "\n",
        "    def forward(self, x):\n",
        "        out = self.linear(x)\n",
        "        # apply sigmoid approx function\n",
        "        out = sigmoid_approx(out)\n",
        "        #The outputs are not in range [0,1] in some cases. Therefore, the below step\n",
        "        out[out<0] = 0\n",
        "        out[out>1] = 1\n",
        "        return out\n",
        "\n",
        "#LR model using approximation\n",
        "class ThiefModel(nn.Module):\n",
        "    def __init__(self):\n",
        "        super(ThiefModel, self).__init__()\n",
        "        self.linear = nn.Linear(784, 1) #Input dimension is 784(28*28) and output is 1\n",
        "\n",
        "    def forward(self, x):\n",
        "        out = self.linear(x)\n",
        "        out = torch.sigmoid(out)#Sigmoid activation\n",
        "        return out"
      ],
      "metadata": {
        "id": "4crNTRrt3781"
      },
      "execution_count": null,
      "outputs": []
    },
    {
      "cell_type": "markdown",
      "source": [
        "In the code, a victim model is created and trained using the PyTorch framework. Here's a breakdown of the code:\n",
        "\n",
        "1. `victim_model = VictimModel()`: This line creates an instance of the `VictimModel` class, which was defined earlier. This model will be used as the victim in the attack.\n",
        "\n",
        "2. `criterion = nn.BCELoss()`: It defines the binary cross-entropy loss function, which is commonly used for binary classification problems.\n",
        "\n",
        "3. `optimizer = torch.optim.SGD(victim_model.parameters(), lr=.001)`: This line sets up the stochastic gradient descent (SGD) optimizer for training the victim model. It specifies that the parameters of the `victim_model` should be optimized using SGD with a learning rate of 0.001.\n",
        "\n",
        "4. `victim_classifier = PyTorchClassifier(...)`: Here, an instance of the PyTorchClassifier from the Adversarial Robustness Toolbox (ART) is created. This classifier wraps the `victim_model` and is configured for use in adversarial attacks and defenses. The important parameters include the model, loss function, optimizer, input shape, and the number of classes.\n",
        "\n",
        "5. `victim_classifier.fit(x_train, y_train, batch_size=64, nb_epochs=30)`: This line trains the `victim_classifier` (which includes the `victim_model`) on the training data (`x_train` and `y_train`). It specifies a batch size of 64 and trains for 30 epochs.\n",
        "\n",
        "6. `predictions = victim_classifier.predict(x_test0).squeeze()`: After training, the model is used to make predictions on the test data `x_test0`. The `.squeeze()` method is used to remove any unnecessary dimensions from the predictions.\n",
        "\n",
        "7. `predictions = np.around(predictions)`: The predicted probabilities are rounded to either 0 or 1 to obtain binary class predictions.\n",
        "\n",
        "8. `accuracy = ((predictions==y_test0).sum())/len(y_test0)`: The accuracy of the victim model is calculated by comparing its predictions to the ground truth labels (`y_test0`). The accuracy is then printed as a percentage."
      ],
      "metadata": {
        "id": "nka0Qy_DxLUW"
      }
    },
    {
      "cell_type": "code",
      "source": [
        "victim_model = VictimModel()\n",
        "criterion = nn.BCELoss()\n",
        "optimizer = torch.optim.SGD(victim_model.parameters(), lr=.001)\n",
        "victim_classifier = PyTorchClassifier(\n",
        "    model=victim_model,\n",
        "    clip_values=(0, 1),\n",
        "    loss=criterion,\n",
        "    optimizer=optimizer,\n",
        "    input_shape=784,\n",
        "    nb_classes=2,\n",
        ")\n",
        "victim_classifier.fit(x_train, y_train, batch_size=64, nb_epochs=30)\n",
        "predictions = victim_classifier.predict(x_test0).squeeze()\n",
        "predictions = np.around(predictions)\n",
        "accuracy = ((predictions==y_test0).sum())/len(y_test0)\n",
        "print(accuracy*100)"
      ],
      "metadata": {
        "id": "-xD98GRg24Sh",
        "colab": {
          "base_uri": "https://localhost:8080/"
        },
        "outputId": "a45694af-3a8b-4253-c6d3-605238263541"
      },
      "execution_count": null,
      "outputs": [
        {
          "output_type": "stream",
          "name": "stdout",
          "text": [
            "99.8581560283688\n"
          ]
        }
      ]
    },
    {
      "cell_type": "markdown",
      "source": [
        "The code performs a series of attacks on a victim model and evaluates the accuracy of the stolen models. Here's a breakdown of the code:\n",
        "\n",
        "1. `num_epochs = 20`: Specify the number of epochs for training the victim model during the attack.\n",
        "\n",
        "2. `postprocessor = ReverseSigmoid(beta=1.0, gamma=0.2)`: Defines a postprocessing defense using the `ReverseSigmoid` method from the Adversarial Robustness Toolbox (ART). This defense is applied to the victim model to protect it from attacks.\n",
        "\n",
        "3. `victim_classifier_protected = PyTorchClassifier(...)`: Creates a new instance of the `PyTorchClassifier` for the protected victim model. This classifier includes the victim model, loss function, optimizer, and the postprocessing defense.\n",
        "\n",
        "4. `len_steal = 5000`: Specify the size of the dataset for stealing, which is 5000 samples.\n",
        "\n",
        "5. `attack_catalogue`: Defines a dictionary containing different attack methods, such as \"Probabilistic CopycatCNN,\" \"Argmax CopycatCNN,\" \"Probabilistic KnockoffNets,\" etc. These methods will be used to steal the victim model.\n",
        "\n",
        "6. `results = []`: Initializes an empty list to store the results of the attack.\n",
        "\n",
        "7. The code then enters a loop where it iterates over different values of `len_steal` (ranging from 100 to 2000 with a step size of 100). For each `len_steal` value, it performs the following steps:\n",
        "\n",
        "   - It randomly selects a subset of the test data for stealing (`x_steal` and `y_steal`) and keeps the remaining test data for evaluation (`x_test` and `y_test`).\n",
        "   \n",
        "   - It iterates over the attack methods in the `attack_catalogue` dictionary.\n",
        "   \n",
        "   - For each attack method, it creates a `thief_model` and a `thief_classifier` based on the `ThiefModel` class defined earlier. The attack is then executed to steal the model.\n",
        "   \n",
        "   - The stolen model is used to make predictions on the remaining test data (`x_test`), and the accuracy of the stolen model is calculated.\n",
        "   \n",
        "   - The name of the attack method, the size of the stolen dataset, and the accuracy of the stolen model are printed.\n",
        "\n",
        "   - The results (attack name, dataset size, and accuracy) are appended to the `results` list."
      ],
      "metadata": {
        "id": "Ya3Jd3pjyV2w"
      }
    },
    {
      "cell_type": "code",
      "source": [
        "num_epochs = 20\n",
        "postprocessor = ReverseSigmoid(beta=1.0, gamma=0.2) # Preparing defense. Beta is a psotive magnitude parameter and gamma is a convergence parameter. Refer to https://adversarial-robustness-toolbox.readthedocs.io/en/latest/modules/defences/postprocessor.html\n",
        "victim_classifier_protected = PyTorchClassifier(\n",
        "    model=victim_model,\n",
        "    clip_values=(0, 1),\n",
        "    loss=criterion,\n",
        "    optimizer=optimizer,\n",
        "    input_shape=784,\n",
        "    nb_classes=2,\n",
        "    postprocessing_defences = postprocessor\n",
        ")\n",
        "\n",
        "#Size of dataset for stealing\n",
        "len_steal = 5000\n",
        "\n",
        "\n",
        "\n",
        "criterion = nn.BCELoss()\n",
        "optimizer = torch.optim.SGD(victim_model.parameters(), lr=.005)\n",
        "\n",
        "attack_catalogue = {\"Probabilistic CopycatCNN\": CopycatCNN(classifier=victim_classifier,\n",
        "                                              batch_size_fit=64,\n",
        "                                              batch_size_query=64,\n",
        "                                              nb_epochs=num_epochs,\n",
        "                                              nb_stolen=len_steal,\n",
        "                                              use_probability=True),\n",
        "                    \"Argmax CopycatCNN\": CopycatCNN(classifier=victim_classifier,\n",
        "                                              batch_size_fit=64,\n",
        "                                              batch_size_query=64,\n",
        "                                              nb_epochs=num_epochs,\n",
        "                                              nb_stolen=len_steal,\n",
        "                                              use_probability=False),\n",
        "                    \"Probabilistic KnockoffNets\": KnockoffNets(classifier=victim_classifier,\n",
        "                                              batch_size_fit=64,\n",
        "                                              batch_size_query=64,\n",
        "                                              nb_epochs=num_epochs,\n",
        "                                              nb_stolen=len_steal,\n",
        "                                              use_probability=True),\n",
        "                    \"Argmax KnockoffNets\": KnockoffNets(classifier=victim_classifier,\n",
        "                                              batch_size_fit=64,\n",
        "                                              batch_size_query=64,\n",
        "                                              nb_epochs=num_epochs,\n",
        "                                              nb_stolen=len_steal,\n",
        "                                              use_probability=False),\n",
        "                     \"Probabilistic CopycatCNN (Protected)\": CopycatCNN(classifier=victim_classifier_protected,\n",
        "                                              batch_size_fit=64,\n",
        "                                              batch_size_query=64,\n",
        "                                              nb_epochs=num_epochs,\n",
        "                                              nb_stolen=len_steal,\n",
        "                                              use_probability=True),\n",
        "                    \"Argmax CopycatCNN (Protected)\": CopycatCNN(classifier=victim_classifier_protected,\n",
        "                                              batch_size_fit=64,\n",
        "                                              batch_size_query=64,\n",
        "                                              nb_epochs=num_epochs,\n",
        "                                              nb_stolen=len_steal,\n",
        "                                              use_probability=False),\n",
        "                    \"Probabilistic KnockoffNets (Protected)\": KnockoffNets(classifier=victim_classifier_protected,\n",
        "                                              batch_size_fit=64,\n",
        "                                              batch_size_query=64,\n",
        "                                              nb_epochs=num_epochs,\n",
        "                                              nb_stolen=len_steal,\n",
        "                                              use_probability=True),\n",
        "                    \"Argmax KnockoffNets (Protected)\": KnockoffNets(classifier=victim_classifier_protected,\n",
        "                                              batch_size_fit=64,\n",
        "                                              batch_size_query=64,\n",
        "                                              nb_epochs=num_epochs,\n",
        "                                              nb_stolen=len_steal,\n",
        "                                              use_probability=False)\n",
        "                   }\n",
        "\n",
        "results = []\n",
        "for len_steal in range(100,2000,100):\n",
        "    indices = np.random.permutation(len(x_test0))\n",
        "    x_steal = x_test0[indices[:len_steal]]\n",
        "    y_steal = y_test0[indices[:len_steal]]\n",
        "    x_test = x_test0[indices[len_steal:]]\n",
        "    y_test = y_test0[indices[len_steal:]]\n",
        "    for name, attack in attack_catalogue.items():\n",
        "        thief_model = ThiefModel()\n",
        "        thief_classifier = PyTorchClassifier(model=thief_model,clip_values=(0, 1),loss=criterion,optimizer=optimizer,input_shape=784,nb_classes=2)\n",
        "        classifier_stolen = attack.extract(x_steal, thieved_classifier=thief_classifier)\n",
        "        predictions = classifier_stolen.predict(x_test).squeeze()\n",
        "        predictions = np.around(predictions)\n",
        "        accuracy = ((predictions==y_test).sum())/len(y_test)\n",
        "        print(name, \":\", accuracy)\n",
        "        results.append((name, len_steal, accuracy))"
      ],
      "metadata": {
        "colab": {
          "base_uri": "https://localhost:8080/"
        },
        "id": "rBUqRt0HOZjT",
        "outputId": "86535300-c857-407e-d3e3-cb9819faa782"
      },
      "execution_count": null,
      "outputs": [
        {
          "output_type": "stream",
          "name": "stderr",
          "text": [
            "WARNING:art.attacks.extraction.copycat_cnn:The size of the source input is smaller than the expected number of queries submitted to the victim classifier.\n",
            "WARNING:art.attacks.extraction.copycat_cnn:The size of the source input is smaller than the expected number of queries submitted to the victim classifier.\n",
            "WARNING:art.attacks.extraction.knockoff_nets:The size of the source input is smaller than the expected number of queries submitted to the victim classifier.\n",
            "WARNING:art.attacks.extraction.knockoff_nets:The size of the source input is smaller than the expected number of queries submitted to the victim classifier.\n",
            "WARNING:art.attacks.extraction.copycat_cnn:The size of the source input is smaller than the expected number of queries submitted to the victim classifier.\n",
            "/usr/local/lib/python3.8/dist-packages/art/defences/postprocessor/reverse_sigmoid.py:88: RuntimeWarning: divide by zero encountered in log\n",
            "  sigmoid(-self.gamma * np.log((1.0 - preds_clipped_1) / preds_clipped_1)) - 0.5\n",
            "/usr/local/lib/python3.8/dist-packages/art/defences/postprocessor/reverse_sigmoid.py:91: RuntimeWarning: divide by zero encountered in true_divide\n",
            "  sigmoid(-self.gamma * np.log((1.0 - preds_clipped_2) / preds_clipped_2)) - 0.5\n",
            "/usr/local/lib/python3.8/dist-packages/art/defences/postprocessor/reverse_sigmoid.py:91: RuntimeWarning: divide by zero encountered in log\n",
            "  sigmoid(-self.gamma * np.log((1.0 - preds_clipped_2) / preds_clipped_2)) - 0.5\n",
            "WARNING:art.attacks.extraction.copycat_cnn:The size of the source input is smaller than the expected number of queries submitted to the victim classifier.\n",
            "WARNING:art.attacks.extraction.knockoff_nets:The size of the source input is smaller than the expected number of queries submitted to the victim classifier.\n"
          ]
        },
        {
          "output_type": "stream",
          "name": "stdout",
          "text": [
            "Probabilistic CopycatCNN : 0.19602977667493796\n",
            "Argmax CopycatCNN : 0.567741935483871\n",
            "Probabilistic KnockoffNets : 0.8044665012406947\n",
            "Argmax KnockoffNets : 0.5652605459057072\n",
            "Probabilistic CopycatCNN (Protected) : 0.34640198511166254\n",
            "Argmax CopycatCNN (Protected) : 0.535483870967742\n"
          ]
        },
        {
          "output_type": "stream",
          "name": "stderr",
          "text": [
            "WARNING:art.attacks.extraction.knockoff_nets:The size of the source input is smaller than the expected number of queries submitted to the victim classifier.\n",
            "WARNING:art.attacks.extraction.copycat_cnn:The size of the source input is smaller than the expected number of queries submitted to the victim classifier.\n"
          ]
        },
        {
          "output_type": "stream",
          "name": "stdout",
          "text": [
            "Probabilistic KnockoffNets (Protected) : 0.6382133995037221\n",
            "Argmax KnockoffNets (Protected) : 0.49429280397022335\n"
          ]
        },
        {
          "output_type": "stream",
          "name": "stderr",
          "text": [
            "WARNING:art.attacks.extraction.copycat_cnn:The size of the source input is smaller than the expected number of queries submitted to the victim classifier.\n",
            "WARNING:art.attacks.extraction.knockoff_nets:The size of the source input is smaller than the expected number of queries submitted to the victim classifier.\n",
            "WARNING:art.attacks.extraction.knockoff_nets:The size of the source input is smaller than the expected number of queries submitted to the victim classifier.\n",
            "WARNING:art.attacks.extraction.copycat_cnn:The size of the source input is smaller than the expected number of queries submitted to the victim classifier.\n"
          ]
        },
        {
          "output_type": "stream",
          "name": "stdout",
          "text": [
            "Probabilistic CopycatCNN : 0.5404699738903395\n",
            "Argmax CopycatCNN : 0.5832898172323759\n",
            "Probabilistic KnockoffNets : 0.8015665796344648\n",
            "Argmax KnockoffNets : 0.42297650130548303\n"
          ]
        },
        {
          "output_type": "stream",
          "name": "stderr",
          "text": [
            "WARNING:art.attacks.extraction.copycat_cnn:The size of the source input is smaller than the expected number of queries submitted to the victim classifier.\n"
          ]
        },
        {
          "output_type": "stream",
          "name": "stdout",
          "text": [
            "Probabilistic CopycatCNN (Protected) : 0.5608355091383812\n"
          ]
        },
        {
          "output_type": "stream",
          "name": "stderr",
          "text": [
            "WARNING:art.attacks.extraction.knockoff_nets:The size of the source input is smaller than the expected number of queries submitted to the victim classifier.\n",
            "WARNING:art.attacks.extraction.knockoff_nets:The size of the source input is smaller than the expected number of queries submitted to the victim classifier.\n",
            "WARNING:art.attacks.extraction.copycat_cnn:The size of the source input is smaller than the expected number of queries submitted to the victim classifier.\n"
          ]
        },
        {
          "output_type": "stream",
          "name": "stdout",
          "text": [
            "Argmax CopycatCNN (Protected) : 0.6772845953002611\n",
            "Probabilistic KnockoffNets (Protected) : 0.4135770234986945\n",
            "Argmax KnockoffNets (Protected) : 0.31697127937336816\n"
          ]
        },
        {
          "output_type": "stream",
          "name": "stderr",
          "text": [
            "WARNING:art.attacks.extraction.copycat_cnn:The size of the source input is smaller than the expected number of queries submitted to the victim classifier.\n"
          ]
        },
        {
          "output_type": "stream",
          "name": "stdout",
          "text": [
            "Probabilistic CopycatCNN : 0.2831955922865014\n"
          ]
        },
        {
          "output_type": "stream",
          "name": "stderr",
          "text": [
            "WARNING:art.attacks.extraction.knockoff_nets:The size of the source input is smaller than the expected number of queries submitted to the victim classifier.\n",
            "WARNING:art.attacks.extraction.knockoff_nets:The size of the source input is smaller than the expected number of queries submitted to the victim classifier.\n",
            "WARNING:art.attacks.extraction.copycat_cnn:The size of the source input is smaller than the expected number of queries submitted to the victim classifier.\n"
          ]
        },
        {
          "output_type": "stream",
          "name": "stdout",
          "text": [
            "Argmax CopycatCNN : 0.3305785123966942\n",
            "Probabilistic KnockoffNets : 0.22038567493112948\n",
            "Argmax KnockoffNets : 0.668870523415978\n"
          ]
        },
        {
          "output_type": "stream",
          "name": "stderr",
          "text": [
            "WARNING:art.attacks.extraction.copycat_cnn:The size of the source input is smaller than the expected number of queries submitted to the victim classifier.\n",
            "WARNING:art.attacks.extraction.knockoff_nets:The size of the source input is smaller than the expected number of queries submitted to the victim classifier.\n"
          ]
        },
        {
          "output_type": "stream",
          "name": "stdout",
          "text": [
            "Probabilistic CopycatCNN (Protected) : 0.5245179063360882\n",
            "Argmax CopycatCNN (Protected) : 0.5327823691460055\n"
          ]
        },
        {
          "output_type": "stream",
          "name": "stderr",
          "text": [
            "WARNING:art.attacks.extraction.knockoff_nets:The size of the source input is smaller than the expected number of queries submitted to the victim classifier.\n",
            "WARNING:art.attacks.extraction.copycat_cnn:The size of the source input is smaller than the expected number of queries submitted to the victim classifier.\n"
          ]
        },
        {
          "output_type": "stream",
          "name": "stdout",
          "text": [
            "Probabilistic KnockoffNets (Protected) : 0.6198347107438017\n",
            "Argmax KnockoffNets (Protected) : 0.6578512396694215\n"
          ]
        },
        {
          "output_type": "stream",
          "name": "stderr",
          "text": [
            "WARNING:art.attacks.extraction.copycat_cnn:The size of the source input is smaller than the expected number of queries submitted to the victim classifier.\n",
            "WARNING:art.attacks.extraction.knockoff_nets:The size of the source input is smaller than the expected number of queries submitted to the victim classifier.\n"
          ]
        },
        {
          "output_type": "stream",
          "name": "stdout",
          "text": [
            "Probabilistic CopycatCNN : 0.3323615160349854\n",
            "Argmax CopycatCNN : 0.6932944606413994\n"
          ]
        },
        {
          "output_type": "stream",
          "name": "stderr",
          "text": [
            "WARNING:art.attacks.extraction.knockoff_nets:The size of the source input is smaller than the expected number of queries submitted to the victim classifier.\n",
            "WARNING:art.attacks.extraction.copycat_cnn:The size of the source input is smaller than the expected number of queries submitted to the victim classifier.\n"
          ]
        },
        {
          "output_type": "stream",
          "name": "stdout",
          "text": [
            "Probabilistic KnockoffNets : 0.27405247813411077\n",
            "Argmax KnockoffNets : 0.42857142857142855\n"
          ]
        },
        {
          "output_type": "stream",
          "name": "stderr",
          "text": [
            "WARNING:art.attacks.extraction.copycat_cnn:The size of the source input is smaller than the expected number of queries submitted to the victim classifier.\n",
            "WARNING:art.attacks.extraction.knockoff_nets:The size of the source input is smaller than the expected number of queries submitted to the victim classifier.\n"
          ]
        },
        {
          "output_type": "stream",
          "name": "stdout",
          "text": [
            "Probabilistic CopycatCNN (Protected) : 0.49387755102040815\n",
            "Argmax CopycatCNN (Protected) : 0.7854227405247813\n"
          ]
        },
        {
          "output_type": "stream",
          "name": "stderr",
          "text": [
            "WARNING:art.attacks.extraction.knockoff_nets:The size of the source input is smaller than the expected number of queries submitted to the victim classifier.\n",
            "WARNING:art.attacks.extraction.copycat_cnn:The size of the source input is smaller than the expected number of queries submitted to the victim classifier.\n"
          ]
        },
        {
          "output_type": "stream",
          "name": "stdout",
          "text": [
            "Probabilistic KnockoffNets (Protected) : 0.7049562682215743\n",
            "Argmax KnockoffNets (Protected) : 0.6845481049562682\n"
          ]
        },
        {
          "output_type": "stream",
          "name": "stderr",
          "text": [
            "WARNING:art.attacks.extraction.copycat_cnn:The size of the source input is smaller than the expected number of queries submitted to the victim classifier.\n",
            "WARNING:art.attacks.extraction.knockoff_nets:The size of the source input is smaller than the expected number of queries submitted to the victim classifier.\n"
          ]
        },
        {
          "output_type": "stream",
          "name": "stdout",
          "text": [
            "Probabilistic CopycatCNN : 0.20061919504643963\n",
            "Argmax CopycatCNN : 0.6309597523219814\n"
          ]
        },
        {
          "output_type": "stream",
          "name": "stderr",
          "text": [
            "WARNING:art.attacks.extraction.knockoff_nets:The size of the source input is smaller than the expected number of queries submitted to the victim classifier.\n",
            "WARNING:art.attacks.extraction.copycat_cnn:The size of the source input is smaller than the expected number of queries submitted to the victim classifier.\n"
          ]
        },
        {
          "output_type": "stream",
          "name": "stdout",
          "text": [
            "Probabilistic KnockoffNets : 0.47306501547987617\n",
            "Argmax KnockoffNets : 0.3219814241486068\n"
          ]
        },
        {
          "output_type": "stream",
          "name": "stderr",
          "text": [
            "WARNING:art.attacks.extraction.copycat_cnn:The size of the source input is smaller than the expected number of queries submitted to the victim classifier.\n"
          ]
        },
        {
          "output_type": "stream",
          "name": "stdout",
          "text": [
            "Probabilistic CopycatCNN (Protected) : 0.648297213622291\n"
          ]
        },
        {
          "output_type": "stream",
          "name": "stderr",
          "text": [
            "WARNING:art.attacks.extraction.knockoff_nets:The size of the source input is smaller than the expected number of queries submitted to the victim classifier.\n",
            "WARNING:art.attacks.extraction.knockoff_nets:The size of the source input is smaller than the expected number of queries submitted to the victim classifier.\n"
          ]
        },
        {
          "output_type": "stream",
          "name": "stdout",
          "text": [
            "Argmax CopycatCNN (Protected) : 0.44953560371517026\n",
            "Probabilistic KnockoffNets (Protected) : 0.5157894736842106\n"
          ]
        },
        {
          "output_type": "stream",
          "name": "stderr",
          "text": [
            "WARNING:art.attacks.extraction.copycat_cnn:The size of the source input is smaller than the expected number of queries submitted to the victim classifier.\n"
          ]
        },
        {
          "output_type": "stream",
          "name": "stdout",
          "text": [
            "Argmax KnockoffNets (Protected) : 0.20247678018575851\n"
          ]
        },
        {
          "output_type": "stream",
          "name": "stderr",
          "text": [
            "WARNING:art.attacks.extraction.copycat_cnn:The size of the source input is smaller than the expected number of queries submitted to the victim classifier.\n"
          ]
        },
        {
          "output_type": "stream",
          "name": "stdout",
          "text": [
            "Probabilistic CopycatCNN : 0.4415841584158416\n",
            "Argmax CopycatCNN : 0.3920792079207921\n"
          ]
        },
        {
          "output_type": "stream",
          "name": "stderr",
          "text": [
            "WARNING:art.attacks.extraction.knockoff_nets:The size of the source input is smaller than the expected number of queries submitted to the victim classifier.\n",
            "WARNING:art.attacks.extraction.knockoff_nets:The size of the source input is smaller than the expected number of queries submitted to the victim classifier.\n",
            "WARNING:art.attacks.extraction.copycat_cnn:The size of the source input is smaller than the expected number of queries submitted to the victim classifier.\n",
            "WARNING:art.attacks.extraction.copycat_cnn:The size of the source input is smaller than the expected number of queries submitted to the victim classifier.\n"
          ]
        },
        {
          "output_type": "stream",
          "name": "stdout",
          "text": [
            "Probabilistic KnockoffNets : 0.7617161716171618\n",
            "Argmax KnockoffNets : 0.3240924092409241\n",
            "Probabilistic CopycatCNN (Protected) : 0.7643564356435644\n"
          ]
        },
        {
          "output_type": "stream",
          "name": "stderr",
          "text": [
            "WARNING:art.attacks.extraction.knockoff_nets:The size of the source input is smaller than the expected number of queries submitted to the victim classifier.\n",
            "WARNING:art.attacks.extraction.knockoff_nets:The size of the source input is smaller than the expected number of queries submitted to the victim classifier.\n",
            "WARNING:art.attacks.extraction.copycat_cnn:The size of the source input is smaller than the expected number of queries submitted to the victim classifier.\n"
          ]
        },
        {
          "output_type": "stream",
          "name": "stdout",
          "text": [
            "Argmax CopycatCNN (Protected) : 0.6844884488448845\n",
            "Probabilistic KnockoffNets (Protected) : 0.5128712871287129\n",
            "Argmax KnockoffNets (Protected) : 0.5524752475247525\n"
          ]
        },
        {
          "output_type": "stream",
          "name": "stderr",
          "text": [
            "WARNING:art.attacks.extraction.copycat_cnn:The size of the source input is smaller than the expected number of queries submitted to the victim classifier.\n",
            "WARNING:art.attacks.extraction.knockoff_nets:The size of the source input is smaller than the expected number of queries submitted to the victim classifier.\n",
            "WARNING:art.attacks.extraction.knockoff_nets:The size of the source input is smaller than the expected number of queries submitted to the victim classifier.\n"
          ]
        },
        {
          "output_type": "stream",
          "name": "stdout",
          "text": [
            "Probabilistic CopycatCNN : 0.21342756183745584\n",
            "Argmax CopycatCNN : 0.9144876325088339\n",
            "Probabilistic KnockoffNets : 0.1724381625441696\n"
          ]
        },
        {
          "output_type": "stream",
          "name": "stderr",
          "text": [
            "WARNING:art.attacks.extraction.copycat_cnn:The size of the source input is smaller than the expected number of queries submitted to the victim classifier.\n",
            "WARNING:art.attacks.extraction.copycat_cnn:The size of the source input is smaller than the expected number of queries submitted to the victim classifier.\n",
            "WARNING:art.attacks.extraction.knockoff_nets:The size of the source input is smaller than the expected number of queries submitted to the victim classifier.\n"
          ]
        },
        {
          "output_type": "stream",
          "name": "stdout",
          "text": [
            "Argmax KnockoffNets : 0.6706713780918728\n",
            "Probabilistic CopycatCNN (Protected) : 0.4925795053003534\n",
            "Argmax CopycatCNN (Protected) : 0.4070671378091873\n"
          ]
        },
        {
          "output_type": "stream",
          "name": "stderr",
          "text": [
            "WARNING:art.attacks.extraction.knockoff_nets:The size of the source input is smaller than the expected number of queries submitted to the victim classifier.\n",
            "WARNING:art.attacks.extraction.copycat_cnn:The size of the source input is smaller than the expected number of queries submitted to the victim classifier.\n",
            "WARNING:art.attacks.extraction.copycat_cnn:The size of the source input is smaller than the expected number of queries submitted to the victim classifier.\n"
          ]
        },
        {
          "output_type": "stream",
          "name": "stdout",
          "text": [
            "Probabilistic KnockoffNets (Protected) : 0.49823321554770317\n",
            "Argmax KnockoffNets (Protected) : 0.3858657243816254\n",
            "Probabilistic CopycatCNN : 0.10570342205323194\n"
          ]
        },
        {
          "output_type": "stream",
          "name": "stderr",
          "text": [
            "WARNING:art.attacks.extraction.knockoff_nets:The size of the source input is smaller than the expected number of queries submitted to the victim classifier.\n",
            "WARNING:art.attacks.extraction.knockoff_nets:The size of the source input is smaller than the expected number of queries submitted to the victim classifier.\n"
          ]
        },
        {
          "output_type": "stream",
          "name": "stdout",
          "text": [
            "Argmax CopycatCNN : 0.5155893536121673\n",
            "Probabilistic KnockoffNets : 0.379467680608365\n",
            "Argmax KnockoffNets : 0.15285171102661596\n"
          ]
        },
        {
          "output_type": "stream",
          "name": "stderr",
          "text": [
            "WARNING:art.attacks.extraction.copycat_cnn:The size of the source input is smaller than the expected number of queries submitted to the victim classifier.\n",
            "WARNING:art.attacks.extraction.copycat_cnn:The size of the source input is smaller than the expected number of queries submitted to the victim classifier.\n",
            "WARNING:art.attacks.extraction.knockoff_nets:The size of the source input is smaller than the expected number of queries submitted to the victim classifier.\n"
          ]
        },
        {
          "output_type": "stream",
          "name": "stdout",
          "text": [
            "Probabilistic CopycatCNN (Protected) : 0.5665399239543726\n",
            "Argmax CopycatCNN (Protected) : 0.24866920152091254\n"
          ]
        },
        {
          "output_type": "stream",
          "name": "stderr",
          "text": [
            "WARNING:art.attacks.extraction.knockoff_nets:The size of the source input is smaller than the expected number of queries submitted to the victim classifier.\n",
            "WARNING:art.attacks.extraction.copycat_cnn:The size of the source input is smaller than the expected number of queries submitted to the victim classifier.\n"
          ]
        },
        {
          "output_type": "stream",
          "name": "stdout",
          "text": [
            "Probabilistic KnockoffNets (Protected) : 0.6988593155893537\n",
            "Argmax KnockoffNets (Protected) : 0.4220532319391635\n"
          ]
        },
        {
          "output_type": "stream",
          "name": "stderr",
          "text": [
            "WARNING:art.attacks.extraction.copycat_cnn:The size of the source input is smaller than the expected number of queries submitted to the victim classifier.\n",
            "WARNING:art.attacks.extraction.knockoff_nets:The size of the source input is smaller than the expected number of queries submitted to the victim classifier.\n"
          ]
        },
        {
          "output_type": "stream",
          "name": "stdout",
          "text": [
            "Probabilistic CopycatCNN : 0.6551440329218107\n",
            "Argmax CopycatCNN : 0.594238683127572\n"
          ]
        },
        {
          "output_type": "stream",
          "name": "stderr",
          "text": [
            "WARNING:art.attacks.extraction.knockoff_nets:The size of the source input is smaller than the expected number of queries submitted to the victim classifier.\n"
          ]
        },
        {
          "output_type": "stream",
          "name": "stdout",
          "text": [
            "Probabilistic KnockoffNets : 0.37530864197530867\n"
          ]
        },
        {
          "output_type": "stream",
          "name": "stderr",
          "text": [
            "WARNING:art.attacks.extraction.copycat_cnn:The size of the source input is smaller than the expected number of queries submitted to the victim classifier.\n"
          ]
        },
        {
          "output_type": "stream",
          "name": "stdout",
          "text": [
            "Argmax KnockoffNets : 0.5218106995884774\n"
          ]
        },
        {
          "output_type": "stream",
          "name": "stderr",
          "text": [
            "WARNING:art.attacks.extraction.copycat_cnn:The size of the source input is smaller than the expected number of queries submitted to the victim classifier.\n"
          ]
        },
        {
          "output_type": "stream",
          "name": "stdout",
          "text": [
            "Probabilistic CopycatCNN (Protected) : 0.2740740740740741\n"
          ]
        },
        {
          "output_type": "stream",
          "name": "stderr",
          "text": [
            "WARNING:art.attacks.extraction.knockoff_nets:The size of the source input is smaller than the expected number of queries submitted to the victim classifier.\n"
          ]
        },
        {
          "output_type": "stream",
          "name": "stdout",
          "text": [
            "Argmax CopycatCNN (Protected) : 0.1168724279835391\n"
          ]
        },
        {
          "output_type": "stream",
          "name": "stderr",
          "text": [
            "WARNING:art.attacks.extraction.knockoff_nets:The size of the source input is smaller than the expected number of queries submitted to the victim classifier.\n"
          ]
        },
        {
          "output_type": "stream",
          "name": "stdout",
          "text": [
            "Probabilistic KnockoffNets (Protected) : 0.29958847736625516\n"
          ]
        },
        {
          "output_type": "stream",
          "name": "stderr",
          "text": [
            "WARNING:art.attacks.extraction.copycat_cnn:The size of the source input is smaller than the expected number of queries submitted to the victim classifier.\n"
          ]
        },
        {
          "output_type": "stream",
          "name": "stdout",
          "text": [
            "Argmax KnockoffNets (Protected) : 0.6946502057613169\n"
          ]
        },
        {
          "output_type": "stream",
          "name": "stderr",
          "text": [
            "WARNING:art.attacks.extraction.copycat_cnn:The size of the source input is smaller than the expected number of queries submitted to the victim classifier.\n"
          ]
        },
        {
          "output_type": "stream",
          "name": "stdout",
          "text": [
            "Probabilistic CopycatCNN : 0.6681614349775785\n"
          ]
        },
        {
          "output_type": "stream",
          "name": "stderr",
          "text": [
            "WARNING:art.attacks.extraction.knockoff_nets:The size of the source input is smaller than the expected number of queries submitted to the victim classifier.\n"
          ]
        },
        {
          "output_type": "stream",
          "name": "stdout",
          "text": [
            "Argmax CopycatCNN : 0.6394618834080718\n"
          ]
        },
        {
          "output_type": "stream",
          "name": "stderr",
          "text": [
            "WARNING:art.attacks.extraction.knockoff_nets:The size of the source input is smaller than the expected number of queries submitted to the victim classifier.\n"
          ]
        },
        {
          "output_type": "stream",
          "name": "stdout",
          "text": [
            "Probabilistic KnockoffNets : 0.42780269058295967\n"
          ]
        },
        {
          "output_type": "stream",
          "name": "stderr",
          "text": [
            "WARNING:art.attacks.extraction.copycat_cnn:The size of the source input is smaller than the expected number of queries submitted to the victim classifier.\n"
          ]
        },
        {
          "output_type": "stream",
          "name": "stdout",
          "text": [
            "Argmax KnockoffNets : 0.4896860986547085\n"
          ]
        },
        {
          "output_type": "stream",
          "name": "stderr",
          "text": [
            "WARNING:art.attacks.extraction.copycat_cnn:The size of the source input is smaller than the expected number of queries submitted to the victim classifier.\n"
          ]
        },
        {
          "output_type": "stream",
          "name": "stdout",
          "text": [
            "Probabilistic CopycatCNN (Protected) : 0.42869955156950673\n"
          ]
        },
        {
          "output_type": "stream",
          "name": "stderr",
          "text": [
            "WARNING:art.attacks.extraction.knockoff_nets:The size of the source input is smaller than the expected number of queries submitted to the victim classifier.\n"
          ]
        },
        {
          "output_type": "stream",
          "name": "stdout",
          "text": [
            "Argmax CopycatCNN (Protected) : 0.36412556053811657\n"
          ]
        },
        {
          "output_type": "stream",
          "name": "stderr",
          "text": [
            "WARNING:art.attacks.extraction.knockoff_nets:The size of the source input is smaller than the expected number of queries submitted to the victim classifier.\n"
          ]
        },
        {
          "output_type": "stream",
          "name": "stdout",
          "text": [
            "Probabilistic KnockoffNets (Protected) : 0.8197309417040358\n"
          ]
        },
        {
          "output_type": "stream",
          "name": "stderr",
          "text": [
            "WARNING:art.attacks.extraction.copycat_cnn:The size of the source input is smaller than the expected number of queries submitted to the victim classifier.\n"
          ]
        },
        {
          "output_type": "stream",
          "name": "stdout",
          "text": [
            "Argmax KnockoffNets (Protected) : 0.2502242152466368\n"
          ]
        },
        {
          "output_type": "stream",
          "name": "stderr",
          "text": [
            "WARNING:art.attacks.extraction.copycat_cnn:The size of the source input is smaller than the expected number of queries submitted to the victim classifier.\n"
          ]
        },
        {
          "output_type": "stream",
          "name": "stdout",
          "text": [
            "Probabilistic CopycatCNN : 0.15172413793103448\n"
          ]
        },
        {
          "output_type": "stream",
          "name": "stderr",
          "text": [
            "WARNING:art.attacks.extraction.knockoff_nets:The size of the source input is smaller than the expected number of queries submitted to the victim classifier.\n"
          ]
        },
        {
          "output_type": "stream",
          "name": "stdout",
          "text": [
            "Argmax CopycatCNN : 0.5014778325123153\n"
          ]
        },
        {
          "output_type": "stream",
          "name": "stderr",
          "text": [
            "WARNING:art.attacks.extraction.knockoff_nets:The size of the source input is smaller than the expected number of queries submitted to the victim classifier.\n"
          ]
        },
        {
          "output_type": "stream",
          "name": "stdout",
          "text": [
            "Probabilistic KnockoffNets : 0.47586206896551725\n"
          ]
        },
        {
          "output_type": "stream",
          "name": "stderr",
          "text": [
            "WARNING:art.attacks.extraction.copycat_cnn:The size of the source input is smaller than the expected number of queries submitted to the victim classifier.\n"
          ]
        },
        {
          "output_type": "stream",
          "name": "stdout",
          "text": [
            "Argmax KnockoffNets : 0.1960591133004926\n"
          ]
        },
        {
          "output_type": "stream",
          "name": "stderr",
          "text": [
            "WARNING:art.attacks.extraction.copycat_cnn:The size of the source input is smaller than the expected number of queries submitted to the victim classifier.\n"
          ]
        },
        {
          "output_type": "stream",
          "name": "stdout",
          "text": [
            "Probabilistic CopycatCNN (Protected) : 0.40492610837438425\n"
          ]
        },
        {
          "output_type": "stream",
          "name": "stderr",
          "text": [
            "WARNING:art.attacks.extraction.knockoff_nets:The size of the source input is smaller than the expected number of queries submitted to the victim classifier.\n"
          ]
        },
        {
          "output_type": "stream",
          "name": "stdout",
          "text": [
            "Argmax CopycatCNN (Protected) : 0.38029556650246304\n"
          ]
        },
        {
          "output_type": "stream",
          "name": "stderr",
          "text": [
            "WARNING:art.attacks.extraction.knockoff_nets:The size of the source input is smaller than the expected number of queries submitted to the victim classifier.\n"
          ]
        },
        {
          "output_type": "stream",
          "name": "stdout",
          "text": [
            "Probabilistic KnockoffNets (Protected) : 0.41576354679802957\n"
          ]
        },
        {
          "output_type": "stream",
          "name": "stderr",
          "text": [
            "WARNING:art.attacks.extraction.copycat_cnn:The size of the source input is smaller than the expected number of queries submitted to the victim classifier.\n"
          ]
        },
        {
          "output_type": "stream",
          "name": "stdout",
          "text": [
            "Argmax KnockoffNets (Protected) : 0.44729064039408867\n"
          ]
        },
        {
          "output_type": "stream",
          "name": "stderr",
          "text": [
            "WARNING:art.attacks.extraction.copycat_cnn:The size of the source input is smaller than the expected number of queries submitted to the victim classifier.\n"
          ]
        },
        {
          "output_type": "stream",
          "name": "stdout",
          "text": [
            "Probabilistic CopycatCNN : 0.4568306010928962\n"
          ]
        },
        {
          "output_type": "stream",
          "name": "stderr",
          "text": [
            "WARNING:art.attacks.extraction.knockoff_nets:The size of the source input is smaller than the expected number of queries submitted to the victim classifier.\n"
          ]
        },
        {
          "output_type": "stream",
          "name": "stdout",
          "text": [
            "Argmax CopycatCNN : 0.585792349726776\n"
          ]
        },
        {
          "output_type": "stream",
          "name": "stderr",
          "text": [
            "WARNING:art.attacks.extraction.knockoff_nets:The size of the source input is smaller than the expected number of queries submitted to the victim classifier.\n"
          ]
        },
        {
          "output_type": "stream",
          "name": "stdout",
          "text": [
            "Probabilistic KnockoffNets : 0.5191256830601093\n"
          ]
        },
        {
          "output_type": "stream",
          "name": "stderr",
          "text": [
            "WARNING:art.attacks.extraction.copycat_cnn:The size of the source input is smaller than the expected number of queries submitted to the victim classifier.\n"
          ]
        },
        {
          "output_type": "stream",
          "name": "stdout",
          "text": [
            "Argmax KnockoffNets : 0.7442622950819672\n"
          ]
        },
        {
          "output_type": "stream",
          "name": "stderr",
          "text": [
            "WARNING:art.attacks.extraction.copycat_cnn:The size of the source input is smaller than the expected number of queries submitted to the victim classifier.\n"
          ]
        },
        {
          "output_type": "stream",
          "name": "stdout",
          "text": [
            "Probabilistic CopycatCNN (Protected) : 0.5158469945355191\n"
          ]
        },
        {
          "output_type": "stream",
          "name": "stderr",
          "text": [
            "WARNING:art.attacks.extraction.knockoff_nets:The size of the source input is smaller than the expected number of queries submitted to the victim classifier.\n"
          ]
        },
        {
          "output_type": "stream",
          "name": "stdout",
          "text": [
            "Argmax CopycatCNN (Protected) : 0.9475409836065574\n"
          ]
        },
        {
          "output_type": "stream",
          "name": "stderr",
          "text": [
            "WARNING:art.attacks.extraction.knockoff_nets:The size of the source input is smaller than the expected number of queries submitted to the victim classifier.\n"
          ]
        },
        {
          "output_type": "stream",
          "name": "stdout",
          "text": [
            "Probabilistic KnockoffNets (Protected) : 0.594535519125683\n"
          ]
        },
        {
          "output_type": "stream",
          "name": "stderr",
          "text": [
            "WARNING:art.attacks.extraction.copycat_cnn:The size of the source input is smaller than the expected number of queries submitted to the victim classifier.\n"
          ]
        },
        {
          "output_type": "stream",
          "name": "stdout",
          "text": [
            "Argmax KnockoffNets (Protected) : 0.6284153005464481\n"
          ]
        },
        {
          "output_type": "stream",
          "name": "stderr",
          "text": [
            "WARNING:art.attacks.extraction.copycat_cnn:The size of the source input is smaller than the expected number of queries submitted to the victim classifier.\n"
          ]
        },
        {
          "output_type": "stream",
          "name": "stdout",
          "text": [
            "Probabilistic CopycatCNN : 0.3901840490797546\n"
          ]
        },
        {
          "output_type": "stream",
          "name": "stderr",
          "text": [
            "WARNING:art.attacks.extraction.knockoff_nets:The size of the source input is smaller than the expected number of queries submitted to the victim classifier.\n"
          ]
        },
        {
          "output_type": "stream",
          "name": "stdout",
          "text": [
            "Argmax CopycatCNN : 0.588957055214724\n"
          ]
        },
        {
          "output_type": "stream",
          "name": "stderr",
          "text": [
            "WARNING:art.attacks.extraction.knockoff_nets:The size of the source input is smaller than the expected number of queries submitted to the victim classifier.\n"
          ]
        },
        {
          "output_type": "stream",
          "name": "stdout",
          "text": [
            "Probabilistic KnockoffNets : 0.6220858895705521\n"
          ]
        },
        {
          "output_type": "stream",
          "name": "stderr",
          "text": [
            "WARNING:art.attacks.extraction.copycat_cnn:The size of the source input is smaller than the expected number of queries submitted to the victim classifier.\n"
          ]
        },
        {
          "output_type": "stream",
          "name": "stdout",
          "text": [
            "Argmax KnockoffNets : 0.40245398773006136\n"
          ]
        },
        {
          "output_type": "stream",
          "name": "stderr",
          "text": [
            "WARNING:art.attacks.extraction.copycat_cnn:The size of the source input is smaller than the expected number of queries submitted to the victim classifier.\n"
          ]
        },
        {
          "output_type": "stream",
          "name": "stdout",
          "text": [
            "Probabilistic CopycatCNN (Protected) : 0.21595092024539878\n"
          ]
        },
        {
          "output_type": "stream",
          "name": "stderr",
          "text": [
            "WARNING:art.attacks.extraction.knockoff_nets:The size of the source input is smaller than the expected number of queries submitted to the victim classifier.\n"
          ]
        },
        {
          "output_type": "stream",
          "name": "stdout",
          "text": [
            "Argmax CopycatCNN (Protected) : 0.3276073619631902\n"
          ]
        },
        {
          "output_type": "stream",
          "name": "stderr",
          "text": [
            "WARNING:art.attacks.extraction.knockoff_nets:The size of the source input is smaller than the expected number of queries submitted to the victim classifier.\n"
          ]
        },
        {
          "output_type": "stream",
          "name": "stdout",
          "text": [
            "Probabilistic KnockoffNets (Protected) : 0.7987730061349694\n"
          ]
        },
        {
          "output_type": "stream",
          "name": "stderr",
          "text": [
            "WARNING:art.attacks.extraction.copycat_cnn:The size of the source input is smaller than the expected number of queries submitted to the victim classifier.\n",
            "WARNING:art.attacks.extraction.copycat_cnn:The size of the source input is smaller than the expected number of queries submitted to the victim classifier.\n"
          ]
        },
        {
          "output_type": "stream",
          "name": "stdout",
          "text": [
            "Argmax KnockoffNets (Protected) : 0.5742331288343558\n",
            "Probabilistic CopycatCNN : 0.3076923076923077\n"
          ]
        },
        {
          "output_type": "stream",
          "name": "stderr",
          "text": [
            "WARNING:art.attacks.extraction.knockoff_nets:The size of the source input is smaller than the expected number of queries submitted to the victim classifier.\n"
          ]
        },
        {
          "output_type": "stream",
          "name": "stdout",
          "text": [
            "Argmax CopycatCNN : 0.5664335664335665\n"
          ]
        },
        {
          "output_type": "stream",
          "name": "stderr",
          "text": [
            "WARNING:art.attacks.extraction.knockoff_nets:The size of the source input is smaller than the expected number of queries submitted to the victim classifier.\n"
          ]
        },
        {
          "output_type": "stream",
          "name": "stdout",
          "text": [
            "Probabilistic KnockoffNets : 0.862937062937063\n"
          ]
        },
        {
          "output_type": "stream",
          "name": "stderr",
          "text": [
            "WARNING:art.attacks.extraction.copycat_cnn:The size of the source input is smaller than the expected number of queries submitted to the victim classifier.\n"
          ]
        },
        {
          "output_type": "stream",
          "name": "stdout",
          "text": [
            "Argmax KnockoffNets : 0.16223776223776223\n"
          ]
        },
        {
          "output_type": "stream",
          "name": "stderr",
          "text": [
            "WARNING:art.attacks.extraction.copycat_cnn:The size of the source input is smaller than the expected number of queries submitted to the victim classifier.\n"
          ]
        },
        {
          "output_type": "stream",
          "name": "stdout",
          "text": [
            "Probabilistic CopycatCNN (Protected) : 0.427972027972028\n"
          ]
        },
        {
          "output_type": "stream",
          "name": "stderr",
          "text": [
            "WARNING:art.attacks.extraction.knockoff_nets:The size of the source input is smaller than the expected number of queries submitted to the victim classifier.\n"
          ]
        },
        {
          "output_type": "stream",
          "name": "stdout",
          "text": [
            "Argmax CopycatCNN (Protected) : 0.1944055944055944\n"
          ]
        },
        {
          "output_type": "stream",
          "name": "stderr",
          "text": [
            "WARNING:art.attacks.extraction.knockoff_nets:The size of the source input is smaller than the expected number of queries submitted to the victim classifier.\n"
          ]
        },
        {
          "output_type": "stream",
          "name": "stdout",
          "text": [
            "Probabilistic KnockoffNets (Protected) : 0.2083916083916084\n"
          ]
        },
        {
          "output_type": "stream",
          "name": "stderr",
          "text": [
            "WARNING:art.attacks.extraction.copycat_cnn:The size of the source input is smaller than the expected number of queries submitted to the victim classifier.\n",
            "WARNING:art.attacks.extraction.copycat_cnn:The size of the source input is smaller than the expected number of queries submitted to the victim classifier.\n"
          ]
        },
        {
          "output_type": "stream",
          "name": "stdout",
          "text": [
            "Argmax KnockoffNets (Protected) : 0.07132867132867132\n",
            "Probabilistic CopycatCNN : 0.3252032520325203\n"
          ]
        },
        {
          "output_type": "stream",
          "name": "stderr",
          "text": [
            "WARNING:art.attacks.extraction.knockoff_nets:The size of the source input is smaller than the expected number of queries submitted to the victim classifier.\n",
            "WARNING:art.attacks.extraction.knockoff_nets:The size of the source input is smaller than the expected number of queries submitted to the victim classifier.\n"
          ]
        },
        {
          "output_type": "stream",
          "name": "stdout",
          "text": [
            "Argmax CopycatCNN : 0.5886178861788618\n",
            "Probabilistic KnockoffNets : 0.44065040650406506\n"
          ]
        },
        {
          "output_type": "stream",
          "name": "stderr",
          "text": [
            "WARNING:art.attacks.extraction.copycat_cnn:The size of the source input is smaller than the expected number of queries submitted to the victim classifier.\n",
            "WARNING:art.attacks.extraction.copycat_cnn:The size of the source input is smaller than the expected number of queries submitted to the victim classifier.\n"
          ]
        },
        {
          "output_type": "stream",
          "name": "stdout",
          "text": [
            "Argmax KnockoffNets : 0.3723577235772358\n",
            "Probabilistic CopycatCNN (Protected) : 0.3967479674796748\n"
          ]
        },
        {
          "output_type": "stream",
          "name": "stderr",
          "text": [
            "WARNING:art.attacks.extraction.knockoff_nets:The size of the source input is smaller than the expected number of queries submitted to the victim classifier.\n",
            "WARNING:art.attacks.extraction.knockoff_nets:The size of the source input is smaller than the expected number of queries submitted to the victim classifier.\n"
          ]
        },
        {
          "output_type": "stream",
          "name": "stdout",
          "text": [
            "Argmax CopycatCNN (Protected) : 0.8520325203252033\n",
            "Probabilistic KnockoffNets (Protected) : 0.35609756097560974\n"
          ]
        },
        {
          "output_type": "stream",
          "name": "stderr",
          "text": [
            "WARNING:art.attacks.extraction.copycat_cnn:The size of the source input is smaller than the expected number of queries submitted to the victim classifier.\n",
            "WARNING:art.attacks.extraction.copycat_cnn:The size of the source input is smaller than the expected number of queries submitted to the victim classifier.\n"
          ]
        },
        {
          "output_type": "stream",
          "name": "stdout",
          "text": [
            "Argmax KnockoffNets (Protected) : 0.3804878048780488\n",
            "Probabilistic CopycatCNN : 0.34368932038834954\n"
          ]
        },
        {
          "output_type": "stream",
          "name": "stderr",
          "text": [
            "WARNING:art.attacks.extraction.knockoff_nets:The size of the source input is smaller than the expected number of queries submitted to the victim classifier.\n",
            "WARNING:art.attacks.extraction.knockoff_nets:The size of the source input is smaller than the expected number of queries submitted to the victim classifier.\n"
          ]
        },
        {
          "output_type": "stream",
          "name": "stdout",
          "text": [
            "Argmax CopycatCNN : 0.21553398058252426\n",
            "Probabilistic KnockoffNets : 0.2058252427184466\n"
          ]
        },
        {
          "output_type": "stream",
          "name": "stderr",
          "text": [
            "WARNING:art.attacks.extraction.copycat_cnn:The size of the source input is smaller than the expected number of queries submitted to the victim classifier.\n",
            "WARNING:art.attacks.extraction.copycat_cnn:The size of the source input is smaller than the expected number of queries submitted to the victim classifier.\n"
          ]
        },
        {
          "output_type": "stream",
          "name": "stdout",
          "text": [
            "Argmax KnockoffNets : 0.8601941747572815\n",
            "Probabilistic CopycatCNN (Protected) : 0.7689320388349514\n"
          ]
        },
        {
          "output_type": "stream",
          "name": "stderr",
          "text": [
            "WARNING:art.attacks.extraction.knockoff_nets:The size of the source input is smaller than the expected number of queries submitted to the victim classifier.\n",
            "WARNING:art.attacks.extraction.knockoff_nets:The size of the source input is smaller than the expected number of queries submitted to the victim classifier.\n"
          ]
        },
        {
          "output_type": "stream",
          "name": "stdout",
          "text": [
            "Argmax CopycatCNN (Protected) : 0.6446601941747573\n",
            "Probabilistic KnockoffNets (Protected) : 0.40194174757281553\n"
          ]
        },
        {
          "output_type": "stream",
          "name": "stderr",
          "text": [
            "WARNING:art.attacks.extraction.copycat_cnn:The size of the source input is smaller than the expected number of queries submitted to the victim classifier.\n"
          ]
        },
        {
          "output_type": "stream",
          "name": "stdout",
          "text": [
            "Argmax KnockoffNets (Protected) : 0.41941747572815535\n",
            "Probabilistic CopycatCNN : "
          ]
        },
        {
          "output_type": "stream",
          "name": "stderr",
          "text": [
            "WARNING:art.attacks.extraction.copycat_cnn:The size of the source input is smaller than the expected number of queries submitted to the victim classifier.\n",
            "WARNING:art.attacks.extraction.knockoff_nets:The size of the source input is smaller than the expected number of queries submitted to the victim classifier.\n"
          ]
        },
        {
          "output_type": "stream",
          "name": "stdout",
          "text": [
            "0.5084337349397591\n",
            "Argmax CopycatCNN : 0.5590361445783133\n"
          ]
        },
        {
          "output_type": "stream",
          "name": "stderr",
          "text": [
            "WARNING:art.attacks.extraction.knockoff_nets:The size of the source input is smaller than the expected number of queries submitted to the victim classifier.\n"
          ]
        },
        {
          "output_type": "stream",
          "name": "stdout",
          "text": [
            "Probabilistic KnockoffNets : 0.2385542168674699\n"
          ]
        },
        {
          "output_type": "stream",
          "name": "stderr",
          "text": [
            "WARNING:art.attacks.extraction.copycat_cnn:The size of the source input is smaller than the expected number of queries submitted to the victim classifier.\n"
          ]
        },
        {
          "output_type": "stream",
          "name": "stdout",
          "text": [
            "Argmax KnockoffNets : 0.44819277108433736\n"
          ]
        },
        {
          "output_type": "stream",
          "name": "stderr",
          "text": [
            "WARNING:art.attacks.extraction.copycat_cnn:The size of the source input is smaller than the expected number of queries submitted to the victim classifier.\n",
            "WARNING:art.attacks.extraction.knockoff_nets:The size of the source input is smaller than the expected number of queries submitted to the victim classifier.\n"
          ]
        },
        {
          "output_type": "stream",
          "name": "stdout",
          "text": [
            "Probabilistic CopycatCNN (Protected) : 0.5204819277108433\n",
            "Argmax CopycatCNN (Protected) : 0.26265060240963856\n"
          ]
        },
        {
          "output_type": "stream",
          "name": "stderr",
          "text": [
            "WARNING:art.attacks.extraction.knockoff_nets:The size of the source input is smaller than the expected number of queries submitted to the victim classifier.\n"
          ]
        },
        {
          "output_type": "stream",
          "name": "stdout",
          "text": [
            "Probabilistic KnockoffNets (Protected) : 0.327710843373494\n"
          ]
        },
        {
          "output_type": "stream",
          "name": "stderr",
          "text": [
            "WARNING:art.attacks.extraction.copycat_cnn:The size of the source input is smaller than the expected number of queries submitted to the victim classifier.\n"
          ]
        },
        {
          "output_type": "stream",
          "name": "stdout",
          "text": [
            "Argmax KnockoffNets (Protected) : 0.3542168674698795\n"
          ]
        },
        {
          "output_type": "stream",
          "name": "stderr",
          "text": [
            "WARNING:art.attacks.extraction.copycat_cnn:The size of the source input is smaller than the expected number of queries submitted to the victim classifier.\n"
          ]
        },
        {
          "output_type": "stream",
          "name": "stdout",
          "text": [
            "Probabilistic CopycatCNN : 0.49206349206349204\n"
          ]
        },
        {
          "output_type": "stream",
          "name": "stderr",
          "text": [
            "WARNING:art.attacks.extraction.knockoff_nets:The size of the source input is smaller than the expected number of queries submitted to the victim classifier.\n"
          ]
        },
        {
          "output_type": "stream",
          "name": "stdout",
          "text": [
            "Argmax CopycatCNN : 0.5968253968253968\n"
          ]
        },
        {
          "output_type": "stream",
          "name": "stderr",
          "text": [
            "WARNING:art.attacks.extraction.knockoff_nets:The size of the source input is smaller than the expected number of queries submitted to the victim classifier.\n"
          ]
        },
        {
          "output_type": "stream",
          "name": "stdout",
          "text": [
            "Probabilistic KnockoffNets : 0.6857142857142857\n"
          ]
        },
        {
          "output_type": "stream",
          "name": "stderr",
          "text": [
            "WARNING:art.attacks.extraction.copycat_cnn:The size of the source input is smaller than the expected number of queries submitted to the victim classifier.\n"
          ]
        },
        {
          "output_type": "stream",
          "name": "stdout",
          "text": [
            "Argmax KnockoffNets : 0.2920634920634921\n"
          ]
        },
        {
          "output_type": "stream",
          "name": "stderr",
          "text": [
            "WARNING:art.attacks.extraction.copycat_cnn:The size of the source input is smaller than the expected number of queries submitted to the victim classifier.\n"
          ]
        },
        {
          "output_type": "stream",
          "name": "stdout",
          "text": [
            "Probabilistic CopycatCNN (Protected) : 0.49206349206349204\n"
          ]
        },
        {
          "output_type": "stream",
          "name": "stderr",
          "text": [
            "WARNING:art.attacks.extraction.knockoff_nets:The size of the source input is smaller than the expected number of queries submitted to the victim classifier.\n"
          ]
        },
        {
          "output_type": "stream",
          "name": "stdout",
          "text": [
            "Argmax CopycatCNN (Protected) : 0.8285714285714286\n"
          ]
        },
        {
          "output_type": "stream",
          "name": "stderr",
          "text": [
            "WARNING:art.attacks.extraction.knockoff_nets:The size of the source input is smaller than the expected number of queries submitted to the victim classifier.\n"
          ]
        },
        {
          "output_type": "stream",
          "name": "stdout",
          "text": [
            "Probabilistic KnockoffNets (Protected) : 0.6190476190476191\n"
          ]
        },
        {
          "output_type": "stream",
          "name": "stderr",
          "text": [
            "WARNING:art.attacks.extraction.copycat_cnn:The size of the source input is smaller than the expected number of queries submitted to the victim classifier.\n"
          ]
        },
        {
          "output_type": "stream",
          "name": "stdout",
          "text": [
            "Argmax KnockoffNets (Protected) : 0.6730158730158731\n"
          ]
        },
        {
          "output_type": "stream",
          "name": "stderr",
          "text": [
            "WARNING:art.attacks.extraction.copycat_cnn:The size of the source input is smaller than the expected number of queries submitted to the victim classifier.\n"
          ]
        },
        {
          "output_type": "stream",
          "name": "stdout",
          "text": [
            "Probabilistic CopycatCNN : 0.3581395348837209\n"
          ]
        },
        {
          "output_type": "stream",
          "name": "stderr",
          "text": [
            "WARNING:art.attacks.extraction.knockoff_nets:The size of the source input is smaller than the expected number of queries submitted to the victim classifier.\n"
          ]
        },
        {
          "output_type": "stream",
          "name": "stdout",
          "text": [
            "Argmax CopycatCNN : 0.4790697674418605\n"
          ]
        },
        {
          "output_type": "stream",
          "name": "stderr",
          "text": [
            "WARNING:art.attacks.extraction.knockoff_nets:The size of the source input is smaller than the expected number of queries submitted to the victim classifier.\n"
          ]
        },
        {
          "output_type": "stream",
          "name": "stdout",
          "text": [
            "Probabilistic KnockoffNets : 0.5674418604651162\n"
          ]
        },
        {
          "output_type": "stream",
          "name": "stderr",
          "text": [
            "WARNING:art.attacks.extraction.copycat_cnn:The size of the source input is smaller than the expected number of queries submitted to the victim classifier.\n"
          ]
        },
        {
          "output_type": "stream",
          "name": "stdout",
          "text": [
            "Argmax KnockoffNets : 0.4930232558139535\n"
          ]
        },
        {
          "output_type": "stream",
          "name": "stderr",
          "text": [
            "WARNING:art.attacks.extraction.copycat_cnn:The size of the source input is smaller than the expected number of queries submitted to the victim classifier.\n"
          ]
        },
        {
          "output_type": "stream",
          "name": "stdout",
          "text": [
            "Probabilistic CopycatCNN (Protected) : 0.7116279069767442\n"
          ]
        },
        {
          "output_type": "stream",
          "name": "stderr",
          "text": [
            "WARNING:art.attacks.extraction.knockoff_nets:The size of the source input is smaller than the expected number of queries submitted to the victim classifier.\n"
          ]
        },
        {
          "output_type": "stream",
          "name": "stdout",
          "text": [
            "Argmax CopycatCNN (Protected) : 0.8837209302325582\n"
          ]
        },
        {
          "output_type": "stream",
          "name": "stderr",
          "text": [
            "WARNING:art.attacks.extraction.knockoff_nets:The size of the source input is smaller than the expected number of queries submitted to the victim classifier.\n"
          ]
        },
        {
          "output_type": "stream",
          "name": "stdout",
          "text": [
            "Probabilistic KnockoffNets (Protected) : 0.4744186046511628\n",
            "Argmax KnockoffNets (Protected) : 0.7302325581395349\n"
          ]
        }
      ]
    },
    {
      "cell_type": "code",
      "source": [
        "df = pd.DataFrame(results, columns=('Method Name', 'Stealing Dataset Size', 'Accuracy'))\n",
        "groupby = df.groupby(\"Method Name\")\n",
        "fig, ax = plt.subplots(figsize=(8,8))\n",
        "ax.set_xlabel(\"Stealing Dataset Size\")\n",
        "ax.set_ylabel(\"Stolen Model Accuracy\")\n",
        "for name, group in df.groupby(\"Method Name\"):\n",
        "    group.plot(1, 2, ax=ax, label=name)\n",
        "plt.show()"
      ],
      "metadata": {
        "colab": {
          "base_uri": "https://localhost:8080/",
          "height": 497
        },
        "id": "VqFOlR03Ufjs",
        "outputId": "18c77fe1-c17e-495c-dafd-77bc46344427"
      },
      "execution_count": null,
      "outputs": [
        {
          "output_type": "display_data",
          "data": {
            "text/plain": [
              "<Figure size 576x576 with 1 Axes>"
            ],
            "image/png": "[encoded data removed]"
          },
          "metadata": {
            "needs_background": "light"
          }
        }
      ]
    },
    {
      "cell_type": "code",
      "source": [
        "df.sort_values(by=['Accuracy'],ascending=False)"
      ],
      "metadata": {
        "colab": {
          "base_uri": "https://localhost:8080/",
          "height": 423
        },
        "id": "BsW1eNF_1uCL",
        "outputId": "59e3addd-fce9-4eec-d8ac-1363fc060183"
      },
      "execution_count": null,
      "outputs": [
        {
          "output_type": "execute_result",
          "data": {
            "text/plain": [
              "                         Method Name  Stealing Dataset Size  Accuracy\n",
              "93     Argmax CopycatCNN (Protected)                   1200  0.947541\n",
              "49                 Argmax CopycatCNN                    700  0.914488\n",
              "149    Argmax CopycatCNN (Protected)                   1900  0.883721\n",
              "106       Probabilistic KnockoffNets                   1400  0.862937\n",
              "123              Argmax KnockoffNets                   1600  0.860194\n",
              "..                               ...                    ...       ...\n",
              "59               Argmax KnockoffNets                    800  0.152852\n",
              "80          Probabilistic CopycatCNN                   1100  0.151724\n",
              "69     Argmax CopycatCNN (Protected)                    900  0.116872\n",
              "56          Probabilistic CopycatCNN                    800  0.105703\n",
              "111  Argmax KnockoffNets (Protected)                   1400  0.071329\n",
              "\n",
              "[152 rows x 3 columns]"
            ],
            "text/html": [
              "\n",
              "  <div id=\"df-de3e08c8-d891-4daa-b8ea-274f2ef73543\">\n",
              "    <div class=\"colab-df-container\">\n",
              "      <div>\n",
              "<style scoped>\n",
              "    .dataframe tbody tr th:only-of-type {\n",
              "        vertical-align: middle;\n",
              "    }\n",
              "\n",
              "    .dataframe tbody tr th {\n",
              "        vertical-align: top;\n",
              "    }\n",
              "\n",
              "    .dataframe thead th {\n",
              "        text-align: right;\n",
              "    }\n",
              "</style>\n",
              "<table border=\"1\" class=\"dataframe\">\n",
              "  <thead>\n",
              "    <tr style=\"text-align: right;\">\n",
              "      <th></th>\n",
              "      <th>Method Name</th>\n",
              "      <th>Stealing Dataset Size</th>\n",
              "      <th>Accuracy</th>\n",
              "    </tr>\n",
              "  </thead>\n",
              "  <tbody>\n",
              "    <tr>\n",
              "      <th>93</th>\n",
              "      <td>Argmax CopycatCNN (Protected)</td>\n",
              "      <td>1200</td>\n",
              "      <td>0.947541</td>\n",
              "    </tr>\n",
              "    <tr>\n",
              "      <th>49</th>\n",
              "      <td>Argmax CopycatCNN</td>\n",
              "      <td>700</td>\n",
              "      <td>0.914488</td>\n",
              "    </tr>\n",
              "    <tr>\n",
              "      <th>149</th>\n",
              "      <td>Argmax CopycatCNN (Protected)</td>\n",
              "      <td>1900</td>\n",
              "      <td>0.883721</td>\n",
              "    </tr>\n",
              "    <tr>\n",
              "      <th>106</th>\n",
              "      <td>Probabilistic KnockoffNets</td>\n",
              "      <td>1400</td>\n",
              "      <td>0.862937</td>\n",
              "    </tr>\n",
              "    <tr>\n",
              "      <th>123</th>\n",
              "      <td>Argmax KnockoffNets</td>\n",
              "      <td>1600</td>\n",
              "      <td>0.860194</td>\n",
              "    </tr>\n",
              "    <tr>\n",
              "      <th>...</th>\n",
              "      <td>...</td>\n",
              "      <td>...</td>\n",
              "      <td>...</td>\n",
              "    </tr>\n",
              "    <tr>\n",
              "      <th>59</th>\n",
              "      <td>Argmax KnockoffNets</td>\n",
              "      <td>800</td>\n",
              "      <td>0.152852</td>\n",
              "    </tr>\n",
              "    <tr>\n",
              "      <th>80</th>\n",
              "      <td>Probabilistic CopycatCNN</td>\n",
              "      <td>1100</td>\n",
              "      <td>0.151724</td>\n",
              "    </tr>\n",
              "    <tr>\n",
              "      <th>69</th>\n",
              "      <td>Argmax CopycatCNN (Protected)</td>\n",
              "      <td>900</td>\n",
              "      <td>0.116872</td>\n",
              "    </tr>\n",
              "    <tr>\n",
              "      <th>56</th>\n",
              "      <td>Probabilistic CopycatCNN</td>\n",
              "      <td>800</td>\n",
              "      <td>0.105703</td>\n",
              "    </tr>\n",
              "    <tr>\n",
              "      <th>111</th>\n",
              "      <td>Argmax KnockoffNets (Protected)</td>\n",
              "      <td>1400</td>\n",
              "      <td>0.071329</td>\n",
              "    </tr>\n",
              "  </tbody>\n",
              "</table>\n",
              "<p>152 rows × 3 columns</p>\n",
              "</div>\n",
              "      <button class=\"colab-df-convert\" onclick=\"convertToInteractive('df-de3e08c8-d891-4daa-b8ea-274f2ef73543')\"\n",
              "              title=\"Convert this dataframe to an interactive table.\"\n",
              "              style=\"display:none;\">\n",
              "        \n",
              "  <svg xmlns=\"http://www.w3.org/2000/svg\" height=\"24px\"viewBox=\"0 0 24 24\"\n",
              "       width=\"24px\">\n",
              "    <path d=\"M0 0h24v24H0V0z\" fill=\"none\"/>\n",
              "    <path d=\"M18.56 5.44l.94 2.06.94-2.06 2.06-.94-2.06-.94-.94-2.06-.94 2.06-2.06.94zm-11 1L8.5 8.5l.94-2.06 2.06-.94-2.06-.94L8.5 2.5l-.94 2.06-2.06.94zm10 10l.94 2.06.94-2.06 2.06-.94-2.06-.94-.94-2.06-.94 2.06-2.06.94z\"/><path d=\"M17.41 7.96l-1.37-1.37c-.4-.4-.92-.59-1.43-.59-.52 0-1.04.2-1.43.59L10.3 9.45l-7.72 7.72c-.78.78-.78 2.05 0 2.83L4 21.41c.39.39.9.59 1.41.59.51 0 1.02-.2 1.41-.59l7.78-7.78 2.81-2.81c.8-.78.8-2.07 0-2.86zM5.41 20L4 18.59l7.72-7.72 1.47 1.35L5.41 20z\"/>\n",
              "  </svg>\n",
              "      </button>\n",
              "      \n",
              "  <style>\n",
              "    .colab-df-container {\n",
              "      display:flex;\n",
              "      flex-wrap:wrap;\n",
              "      gap: 12px;\n",
              "    }\n",
              "\n",
              "    .colab-df-convert {\n",
              "      background-color: #E8F0FE;\n",
              "      border: none;\n",
              "      border-radius: 50%;\n",
              "      cursor: pointer;\n",
              "      display: none;\n",
              "      fill: #1967D2;\n",
              "      height: 32px;\n",
              "      padding: 0 0 0 0;\n",
              "      width: 32px;\n",
              "    }\n",
              "\n",
              "    .colab-df-convert:hover {\n",
              "      background-color: #E2EBFA;\n",
              "      box-shadow: 0px 1px 2px rgba(60, 64, 67, 0.3), 0px 1px 3px 1px rgba(60, 64, 67, 0.15);\n",
              "      fill: #174EA6;\n",
              "    }\n",
              "\n",
              "    [theme=dark] .colab-df-convert {\n",
              "      background-color: #3B4455;\n",
              "      fill: #D2E3FC;\n",
              "    }\n",
              "\n",
              "    [theme=dark] .colab-df-convert:hover {\n",
              "      background-color: #434B5C;\n",
              "      box-shadow: 0px 1px 3px 1px rgba(0, 0, 0, 0.15);\n",
              "      filter: drop-shadow(0px 1px 2px rgba(0, 0, 0, 0.3));\n",
              "      fill: #FFFFFF;\n",
              "    }\n",
              "  </style>\n",
              "\n",
              "      <script>\n",
              "        const buttonEl =\n",
              "          document.querySelector('#df-de3e08c8-d891-4daa-b8ea-274f2ef73543 button.colab-df-convert');\n",
              "        buttonEl.style.display =\n",
              "          google.colab.kernel.accessAllowed ? 'block' : 'none';\n",
              "\n",
              "        async function convertToInteractive(key) {\n",
              "          const element = document.querySelector('#df-de3e08c8-d891-4daa-b8ea-274f2ef73543');\n",
              "          const dataTable =\n",
              "            await google.colab.kernel.invokeFunction('convertToInteractive',\n",
              "                                                     [key], {});\n",
              "          if (!dataTable) return;\n",
              "\n",
              "          const docLinkHtml = 'Like what you see? Visit the ' +\n",
              "            '<a target=\"_blank\" href=https://colab.research.google.com/notebooks/data_table.ipynb>data table notebook</a>'\n",
              "            + ' to learn more about interactive tables.';\n",
              "          element.innerHTML = '';\n",
              "          dataTable['output_type'] = 'display_data';\n",
              "          await google.colab.output.renderOutput(dataTable, element);\n",
              "          const docLink = document.createElement('div');\n",
              "          docLink.innerHTML = docLinkHtml;\n",
              "          element.appendChild(docLink);\n",
              "        }\n",
              "      </script>\n",
              "    </div>\n",
              "  </div>\n",
              "  "
            ]
          },
          "metadata": {},
          "execution_count": 53
        }
      ]
    },
    {
      "cell_type": "code",
      "source": [
        "names = [\"CopycatCNN\", \"KnockoffNets\"]\n",
        "for name in names:\n",
        "    fig, ax = plt.subplots(figsize=(8,6))\n",
        "    groupby.get_group(\"Probabilistic \" + name).plot(1,2,ax=ax, label=\"Probabilistic \" + name)\n",
        "    groupby.get_group(\"Probabilistic \" + name + \" (Protected)\").plot(1,2,ax=ax, label=\"Probabilistic \" + name + \" (Protected)\")\n",
        "    ax.set_xlabel(\"Stealing Dataset Size\")\n",
        "    ax.set_ylabel(\"Stolen Model Accuracy\")\n",
        "    fig.show()"
      ],
      "metadata": {
        "id": "43JIIgXwGarE",
        "colab": {
          "base_uri": "https://localhost:8080/",
          "height": 762
        },
        "outputId": "45a1810b-7b4f-4bd9-80ec-d4cd547a2d2b"
      },
      "execution_count": null,
      "outputs": [
        {
          "output_type": "display_data",
          "data": {
            "text/plain": [
              "<Figure size 576x432 with 1 Axes>"
            ],
            "image/png": "[encoded data removed]"
          },
          "metadata": {
            "needs_background": "light"
          }
        },
        {
          "output_type": "display_data",
          "data": {
            "text/plain": [
              "<Figure size 576x432 with 1 Axes>"
            ],
            "image/png": "[encoded data removed]"
          },
          "metadata": {
            "needs_background": "light"
          }
        }
      ]
    }
  ]
}