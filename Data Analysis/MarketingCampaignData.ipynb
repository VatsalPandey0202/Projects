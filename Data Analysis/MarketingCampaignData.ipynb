{
  "nbformat": 4,
  "nbformat_minor": 0,
  "metadata": {
    "colab": {
      "provenance": []
    },
    "kernelspec": {
      "name": "python3",
      "display_name": "Python 3"
    },
    "language_info": {
      "name": "python"
    }
  },
  "cells": [
    {
      "cell_type": "code",
      "execution_count": null,
      "metadata": {
        "colab": {
          "base_uri": "https://localhost:8080/"
        },
        "id": "gc2R1XGo0--Y",
        "outputId": "af68f112-122a-4e11-893f-6ae807571a76"
      },
      "outputs": [
        {
          "output_type": "execute_result",
          "data": {
            "text/plain": [
              "(42600, 17)"
            ]
          },
          "metadata": {},
          "execution_count": 219
        }
      ],
      "source": [
        "import pandas as pd\n",
        "df = pd.read_csv(\"/content/sample_data/MarketingCampaignData.csv\")\n",
        "df.shape"
      ]
    },
    {
      "cell_type": "code",
      "source": [
        "df.head()"
      ],
      "metadata": {
        "colab": {
          "base_uri": "https://localhost:8080/",
          "height": 206
        },
        "id": "GShbS6mq1og9",
        "outputId": "ae830f23-bca1-4009-d2f3-e7e4a7023b7d"
      },
      "execution_count": null,
      "outputs": [
        {
          "output_type": "execute_result",
          "data": {
            "text/plain": [
              "    age          job  marital  education default  balance housing loan  \\\n",
              "0  36.0   management  married   tertiary      no      101     yes  yes   \n",
              "1  57.0   technician  married    unknown      no      206     yes   no   \n",
              "2  54.0     services  married  secondary     yes        0     yes   no   \n",
              "3  51.0  blue-collar  married  secondary      no       50     yes  yes   \n",
              "4  49.0   technician  married    unknown      no       15      no   no   \n",
              "\n",
              "   contact  day month  duration  campaign  pdays  previous poutcome   y  \n",
              "0  unknown    5   may       426         1     -1         0  unknown  no  \n",
              "1  unknown    5   may       216         3     -1         0  unknown  no  \n",
              "2  unknown    6   may       138         3     -1         0  unknown  no  \n",
              "3  unknown    6   may       121         1     -1         0  unknown  no  \n",
              "4  unknown    6   may        92         2     -1         0  unknown  no  "
            ],
            "text/html": [
              "\n",
              "  <div id=\"df-e958d0e0-a3e2-4670-880f-4d85f292dce5\">\n",
              "    <div class=\"colab-df-container\">\n",
              "      <div>\n",
              "<style scoped>\n",
              "    .dataframe tbody tr th:only-of-type {\n",
              "        vertical-align: middle;\n",
              "    }\n",
              "\n",
              "    .dataframe tbody tr th {\n",
              "        vertical-align: top;\n",
              "    }\n",
              "\n",
              "    .dataframe thead th {\n",
              "        text-align: right;\n",
              "    }\n",
              "</style>\n",
              "<table border=\"1\" class=\"dataframe\">\n",
              "  <thead>\n",
              "    <tr style=\"text-align: right;\">\n",
              "      <th></th>\n",
              "      <th>age</th>\n",
              "      <th>job</th>\n",
              "      <th>marital</th>\n",
              "      <th>education</th>\n",
              "      <th>default</th>\n",
              "      <th>balance</th>\n",
              "      <th>housing</th>\n",
              "      <th>loan</th>\n",
              "      <th>contact</th>\n",
              "      <th>day</th>\n",
              "      <th>month</th>\n",
              "      <th>duration</th>\n",
              "      <th>campaign</th>\n",
              "      <th>pdays</th>\n",
              "      <th>previous</th>\n",
              "      <th>poutcome</th>\n",
              "      <th>y</th>\n",
              "    </tr>\n",
              "  </thead>\n",
              "  <tbody>\n",
              "    <tr>\n",
              "      <th>0</th>\n",
              "      <td>36.0</td>\n",
              "      <td>management</td>\n",
              "      <td>married</td>\n",
              "      <td>tertiary</td>\n",
              "      <td>no</td>\n",
              "      <td>101</td>\n",
              "      <td>yes</td>\n",
              "      <td>yes</td>\n",
              "      <td>unknown</td>\n",
              "      <td>5</td>\n",
              "      <td>may</td>\n",
              "      <td>426</td>\n",
              "      <td>1</td>\n",
              "      <td>-1</td>\n",
              "      <td>0</td>\n",
              "      <td>unknown</td>\n",
              "      <td>no</td>\n",
              "    </tr>\n",
              "    <tr>\n",
              "      <th>1</th>\n",
              "      <td>57.0</td>\n",
              "      <td>technician</td>\n",
              "      <td>married</td>\n",
              "      <td>unknown</td>\n",
              "      <td>no</td>\n",
              "      <td>206</td>\n",
              "      <td>yes</td>\n",
              "      <td>no</td>\n",
              "      <td>unknown</td>\n",
              "      <td>5</td>\n",
              "      <td>may</td>\n",
              "      <td>216</td>\n",
              "      <td>3</td>\n",
              "      <td>-1</td>\n",
              "      <td>0</td>\n",
              "      <td>unknown</td>\n",
              "      <td>no</td>\n",
              "    </tr>\n",
              "    <tr>\n",
              "      <th>2</th>\n",
              "      <td>54.0</td>\n",
              "      <td>services</td>\n",
              "      <td>married</td>\n",
              "      <td>secondary</td>\n",
              "      <td>yes</td>\n",
              "      <td>0</td>\n",
              "      <td>yes</td>\n",
              "      <td>no</td>\n",
              "      <td>unknown</td>\n",
              "      <td>6</td>\n",
              "      <td>may</td>\n",
              "      <td>138</td>\n",
              "      <td>3</td>\n",
              "      <td>-1</td>\n",
              "      <td>0</td>\n",
              "      <td>unknown</td>\n",
              "      <td>no</td>\n",
              "    </tr>\n",
              "    <tr>\n",
              "      <th>3</th>\n",
              "      <td>51.0</td>\n",
              "      <td>blue-collar</td>\n",
              "      <td>married</td>\n",
              "      <td>secondary</td>\n",
              "      <td>no</td>\n",
              "      <td>50</td>\n",
              "      <td>yes</td>\n",
              "      <td>yes</td>\n",
              "      <td>unknown</td>\n",
              "      <td>6</td>\n",
              "      <td>may</td>\n",
              "      <td>121</td>\n",
              "      <td>1</td>\n",
              "      <td>-1</td>\n",
              "      <td>0</td>\n",
              "      <td>unknown</td>\n",
              "      <td>no</td>\n",
              "    </tr>\n",
              "    <tr>\n",
              "      <th>4</th>\n",
              "      <td>49.0</td>\n",
              "      <td>technician</td>\n",
              "      <td>married</td>\n",
              "      <td>unknown</td>\n",
              "      <td>no</td>\n",
              "      <td>15</td>\n",
              "      <td>no</td>\n",
              "      <td>no</td>\n",
              "      <td>unknown</td>\n",
              "      <td>6</td>\n",
              "      <td>may</td>\n",
              "      <td>92</td>\n",
              "      <td>2</td>\n",
              "      <td>-1</td>\n",
              "      <td>0</td>\n",
              "      <td>unknown</td>\n",
              "      <td>no</td>\n",
              "    </tr>\n",
              "  </tbody>\n",
              "</table>\n",
              "</div>\n",
              "      <button class=\"colab-df-convert\" onclick=\"convertToInteractive('df-e958d0e0-a3e2-4670-880f-4d85f292dce5')\"\n",
              "              title=\"Convert this dataframe to an interactive table.\"\n",
              "              style=\"display:none;\">\n",
              "        \n",
              "  <svg xmlns=\"http://www.w3.org/2000/svg\" height=\"24px\"viewBox=\"0 0 24 24\"\n",
              "       width=\"24px\">\n",
              "    <path d=\"M0 0h24v24H0V0z\" fill=\"none\"/>\n",
              "    <path d=\"M18.56 5.44l.94 2.06.94-2.06 2.06-.94-2.06-.94-.94-2.06-.94 2.06-2.06.94zm-11 1L8.5 8.5l.94-2.06 2.06-.94-2.06-.94L8.5 2.5l-.94 2.06-2.06.94zm10 10l.94 2.06.94-2.06 2.06-.94-2.06-.94-.94-2.06-.94 2.06-2.06.94z\"/><path d=\"M17.41 7.96l-1.37-1.37c-.4-.4-.92-.59-1.43-.59-.52 0-1.04.2-1.43.59L10.3 9.45l-7.72 7.72c-.78.78-.78 2.05 0 2.83L4 21.41c.39.39.9.59 1.41.59.51 0 1.02-.2 1.41-.59l7.78-7.78 2.81-2.81c.8-.78.8-2.07 0-2.86zM5.41 20L4 18.59l7.72-7.72 1.47 1.35L5.41 20z\"/>\n",
              "  </svg>\n",
              "      </button>\n",
              "      \n",
              "  <style>\n",
              "    .colab-df-container {\n",
              "      display:flex;\n",
              "      flex-wrap:wrap;\n",
              "      gap: 12px;\n",
              "    }\n",
              "\n",
              "    .colab-df-convert {\n",
              "      background-color: #E8F0FE;\n",
              "      border: none;\n",
              "      border-radius: 50%;\n",
              "      cursor: pointer;\n",
              "      display: none;\n",
              "      fill: #1967D2;\n",
              "      height: 32px;\n",
              "      padding: 0 0 0 0;\n",
              "      width: 32px;\n",
              "    }\n",
              "\n",
              "    .colab-df-convert:hover {\n",
              "      background-color: #E2EBFA;\n",
              "      box-shadow: 0px 1px 2px rgba(60, 64, 67, 0.3), 0px 1px 3px 1px rgba(60, 64, 67, 0.15);\n",
              "      fill: #174EA6;\n",
              "    }\n",
              "\n",
              "    [theme=dark] .colab-df-convert {\n",
              "      background-color: #3B4455;\n",
              "      fill: #D2E3FC;\n",
              "    }\n",
              "\n",
              "    [theme=dark] .colab-df-convert:hover {\n",
              "      background-color: #434B5C;\n",
              "      box-shadow: 0px 1px 3px 1px rgba(0, 0, 0, 0.15);\n",
              "      filter: drop-shadow(0px 1px 2px rgba(0, 0, 0, 0.3));\n",
              "      fill: #FFFFFF;\n",
              "    }\n",
              "  </style>\n",
              "\n",
              "      <script>\n",
              "        const buttonEl =\n",
              "          document.querySelector('#df-e958d0e0-a3e2-4670-880f-4d85f292dce5 button.colab-df-convert');\n",
              "        buttonEl.style.display =\n",
              "          google.colab.kernel.accessAllowed ? 'block' : 'none';\n",
              "\n",
              "        async function convertToInteractive(key) {\n",
              "          const element = document.querySelector('#df-e958d0e0-a3e2-4670-880f-4d85f292dce5');\n",
              "          const dataTable =\n",
              "            await google.colab.kernel.invokeFunction('convertToInteractive',\n",
              "                                                     [key], {});\n",
              "          if (!dataTable) return;\n",
              "\n",
              "          const docLinkHtml = 'Like what you see? Visit the ' +\n",
              "            '<a target=\"_blank\" href=https://colab.research.google.com/notebooks/data_table.ipynb>data table notebook</a>'\n",
              "            + ' to learn more about interactive tables.';\n",
              "          element.innerHTML = '';\n",
              "          dataTable['output_type'] = 'display_data';\n",
              "          await google.colab.output.renderOutput(dataTable, element);\n",
              "          const docLink = document.createElement('div');\n",
              "          docLink.innerHTML = docLinkHtml;\n",
              "          element.appendChild(docLink);\n",
              "        }\n",
              "      </script>\n",
              "    </div>\n",
              "  </div>\n",
              "  "
            ]
          },
          "metadata": {},
          "execution_count": 220
        }
      ]
    },
    {
      "cell_type": "code",
      "source": [
        "df.info()"
      ],
      "metadata": {
        "colab": {
          "base_uri": "https://localhost:8080/"
        },
        "id": "vYcvifTT2pBI",
        "outputId": "a8e9f42e-4d1b-4b07-8c81-8434f988e141"
      },
      "execution_count": null,
      "outputs": [
        {
          "output_type": "stream",
          "name": "stdout",
          "text": [
            "<class 'pandas.core.frame.DataFrame'>\n",
            "RangeIndex: 42600 entries, 0 to 42599\n",
            "Data columns (total 17 columns):\n",
            " #   Column     Non-Null Count  Dtype  \n",
            "---  ------     --------------  -----  \n",
            " 0   age        39944 non-null  float64\n",
            " 1   job        41191 non-null  object \n",
            " 2   marital    41262 non-null  object \n",
            " 3   education  41940 non-null  object \n",
            " 4   default    42600 non-null  object \n",
            " 5   balance    42600 non-null  int64  \n",
            " 6   housing    42600 non-null  object \n",
            " 7   loan       40004 non-null  object \n",
            " 8   contact    42600 non-null  object \n",
            " 9   day        42600 non-null  int64  \n",
            " 10  month      42600 non-null  object \n",
            " 11  duration   42600 non-null  int64  \n",
            " 12  campaign   42600 non-null  int64  \n",
            " 13  pdays      42600 non-null  int64  \n",
            " 14  previous   42600 non-null  int64  \n",
            " 15  poutcome   42600 non-null  object \n",
            " 16  y          42600 non-null  object \n",
            "dtypes: float64(1), int64(6), object(10)\n",
            "memory usage: 5.5+ MB\n"
          ]
        }
      ]
    },
    {
      "cell_type": "code",
      "source": [
        "# null values\n",
        "df.isnull().sum().sort_values(ascending=False)"
      ],
      "metadata": {
        "colab": {
          "base_uri": "https://localhost:8080/"
        },
        "id": "8t52Up7u3AoO",
        "outputId": "58fbc629-1647-4755-8876-c2856677d327"
      },
      "execution_count": null,
      "outputs": [
        {
          "output_type": "execute_result",
          "data": {
            "text/plain": [
              "age          2656\n",
              "loan         2596\n",
              "job          1409\n",
              "marital      1338\n",
              "education     660\n",
              "duration        0\n",
              "poutcome        0\n",
              "previous        0\n",
              "pdays           0\n",
              "campaign        0\n",
              "contact         0\n",
              "month           0\n",
              "day             0\n",
              "housing         0\n",
              "balance         0\n",
              "default         0\n",
              "y               0\n",
              "dtype: int64"
            ]
          },
          "metadata": {},
          "execution_count": 222
        }
      ]
    },
    {
      "cell_type": "code",
      "source": [
        "#Visualizing null\n",
        "import missingno as msno\n",
        "\n",
        "msno.matrix(df)"
      ],
      "metadata": {
        "colab": {
          "base_uri": "https://localhost:8080/",
          "height": 679
        },
        "id": "Nam66EhB7gWd",
        "outputId": "544c3291-498d-4bf4-b45c-efec736b4d45"
      },
      "execution_count": null,
      "outputs": [
        {
          "output_type": "execute_result",
          "data": {
            "text/plain": [
              "<matplotlib.axes._subplots.AxesSubplot at 0x7f97c6fd6590>"
            ]
          },
          "metadata": {},
          "execution_count": 223
        },
        {
          "output_type": "display_data",
          "data": {
            "text/plain": [
              "<Figure size 1800x720 with 2 Axes>"
            ],
            "image/png": "[encoded data removed]"
          },
          "metadata": {
            "needs_background": "light"
          }
        }
      ]
    },
    {
      "cell_type": "code",
      "source": [
        "# Imputing with MICE\n",
        "# Imputing missing data\n",
        "from sklearn.experimental import enable_iterative_imputer\n",
        "from sklearn.impute import IterativeImputer\n",
        "from sklearn import linear_model\n",
        "\n",
        "df_mice = df.filter(['age'], axis=1).copy()\n",
        "\n",
        "# Define MICE Imputer and fill missing values\n",
        "mice_imputer = IterativeImputer(estimator=linear_model.BayesianRidge(), n_nearest_features=None, imputation_order='ascending')\n",
        "\n",
        "df_mice_imputed = pd.DataFrame(mice_imputer.fit_transform(df_mice), columns=df_mice.columns)\n",
        "\n",
        "df=df.drop(['age'],axis=1)\n",
        "\n",
        "df.insert(loc=0,\n",
        "          column='age',\n",
        "          value=list(df_mice_imputed['age']))\n",
        "\n",
        "df = df.fillna(\"Unknown\")"
      ],
      "metadata": {
        "id": "GrThLKGp-mhp"
      },
      "execution_count": null,
      "outputs": []
    },
    {
      "cell_type": "code",
      "source": [
        "df.describe()"
      ],
      "metadata": {
        "colab": {
          "base_uri": "https://localhost:8080/",
          "height": 300
        },
        "id": "GIU-izRrOs-B",
        "outputId": "bd896e57-3fdc-433a-c312-d8fad1a114b7"
      },
      "execution_count": null,
      "outputs": [
        {
          "output_type": "execute_result",
          "data": {
            "text/plain": [
              "                age        balance           day      duration      campaign  \\\n",
              "count  42600.000000   42600.000000  42600.000000  42600.000000  42600.000000   \n",
              "mean      40.725015    1329.301643     15.899577    256.533310      2.820446   \n",
              "std        9.840696    2999.014702      8.311302    257.911496      3.165378   \n",
              "min       18.000000   -8019.000000      1.000000      0.000000      1.000000   \n",
              "25%       33.000000      65.000000      8.000000    102.000000      1.000000   \n",
              "50%       40.000000     432.000000     16.000000    178.000000      2.000000   \n",
              "75%       47.000000    1384.250000     21.000000    317.000000      3.000000   \n",
              "max       95.000000  102127.000000     31.000000   4918.000000     63.000000   \n",
              "\n",
              "              pdays      previous  \n",
              "count  42600.000000  42600.000000  \n",
              "mean      36.218756      0.505211  \n",
              "std       95.867208      2.251405  \n",
              "min       -1.000000      0.000000  \n",
              "25%       -1.000000      0.000000  \n",
              "50%       -1.000000      0.000000  \n",
              "75%       -1.000000      0.000000  \n",
              "max      850.000000    275.000000  "
            ],
            "text/html": [
              "\n",
              "  <div id=\"df-03c29546-fa59-4d89-be33-daafec81733e\">\n",
              "    <div class=\"colab-df-container\">\n",
              "      <div>\n",
              "<style scoped>\n",
              "    .dataframe tbody tr th:only-of-type {\n",
              "        vertical-align: middle;\n",
              "    }\n",
              "\n",
              "    .dataframe tbody tr th {\n",
              "        vertical-align: top;\n",
              "    }\n",
              "\n",
              "    .dataframe thead th {\n",
              "        text-align: right;\n",
              "    }\n",
              "</style>\n",
              "<table border=\"1\" class=\"dataframe\">\n",
              "  <thead>\n",
              "    <tr style=\"text-align: right;\">\n",
              "      <th></th>\n",
              "      <th>age</th>\n",
              "      <th>balance</th>\n",
              "      <th>day</th>\n",
              "      <th>duration</th>\n",
              "      <th>campaign</th>\n",
              "      <th>pdays</th>\n",
              "      <th>previous</th>\n",
              "    </tr>\n",
              "  </thead>\n",
              "  <tbody>\n",
              "    <tr>\n",
              "      <th>count</th>\n",
              "      <td>42600.000000</td>\n",
              "      <td>42600.000000</td>\n",
              "      <td>42600.000000</td>\n",
              "      <td>42600.000000</td>\n",
              "      <td>42600.000000</td>\n",
              "      <td>42600.000000</td>\n",
              "      <td>42600.000000</td>\n",
              "    </tr>\n",
              "    <tr>\n",
              "      <th>mean</th>\n",
              "      <td>40.725015</td>\n",
              "      <td>1329.301643</td>\n",
              "      <td>15.899577</td>\n",
              "      <td>256.533310</td>\n",
              "      <td>2.820446</td>\n",
              "      <td>36.218756</td>\n",
              "      <td>0.505211</td>\n",
              "    </tr>\n",
              "    <tr>\n",
              "      <th>std</th>\n",
              "      <td>9.840696</td>\n",
              "      <td>2999.014702</td>\n",
              "      <td>8.311302</td>\n",
              "      <td>257.911496</td>\n",
              "      <td>3.165378</td>\n",
              "      <td>95.867208</td>\n",
              "      <td>2.251405</td>\n",
              "    </tr>\n",
              "    <tr>\n",
              "      <th>min</th>\n",
              "      <td>18.000000</td>\n",
              "      <td>-8019.000000</td>\n",
              "      <td>1.000000</td>\n",
              "      <td>0.000000</td>\n",
              "      <td>1.000000</td>\n",
              "      <td>-1.000000</td>\n",
              "      <td>0.000000</td>\n",
              "    </tr>\n",
              "    <tr>\n",
              "      <th>25%</th>\n",
              "      <td>33.000000</td>\n",
              "      <td>65.000000</td>\n",
              "      <td>8.000000</td>\n",
              "      <td>102.000000</td>\n",
              "      <td>1.000000</td>\n",
              "      <td>-1.000000</td>\n",
              "      <td>0.000000</td>\n",
              "    </tr>\n",
              "    <tr>\n",
              "      <th>50%</th>\n",
              "      <td>40.000000</td>\n",
              "      <td>432.000000</td>\n",
              "      <td>16.000000</td>\n",
              "      <td>178.000000</td>\n",
              "      <td>2.000000</td>\n",
              "      <td>-1.000000</td>\n",
              "      <td>0.000000</td>\n",
              "    </tr>\n",
              "    <tr>\n",
              "      <th>75%</th>\n",
              "      <td>47.000000</td>\n",
              "      <td>1384.250000</td>\n",
              "      <td>21.000000</td>\n",
              "      <td>317.000000</td>\n",
              "      <td>3.000000</td>\n",
              "      <td>-1.000000</td>\n",
              "      <td>0.000000</td>\n",
              "    </tr>\n",
              "    <tr>\n",
              "      <th>max</th>\n",
              "      <td>95.000000</td>\n",
              "      <td>102127.000000</td>\n",
              "      <td>31.000000</td>\n",
              "      <td>4918.000000</td>\n",
              "      <td>63.000000</td>\n",
              "      <td>850.000000</td>\n",
              "      <td>275.000000</td>\n",
              "    </tr>\n",
              "  </tbody>\n",
              "</table>\n",
              "</div>\n",
              "      <button class=\"colab-df-convert\" onclick=\"convertToInteractive('df-03c29546-fa59-4d89-be33-daafec81733e')\"\n",
              "              title=\"Convert this dataframe to an interactive table.\"\n",
              "              style=\"display:none;\">\n",
              "        \n",
              "  <svg xmlns=\"http://www.w3.org/2000/svg\" height=\"24px\"viewBox=\"0 0 24 24\"\n",
              "       width=\"24px\">\n",
              "    <path d=\"M0 0h24v24H0V0z\" fill=\"none\"/>\n",
              "    <path d=\"M18.56 5.44l.94 2.06.94-2.06 2.06-.94-2.06-.94-.94-2.06-.94 2.06-2.06.94zm-11 1L8.5 8.5l.94-2.06 2.06-.94-2.06-.94L8.5 2.5l-.94 2.06-2.06.94zm10 10l.94 2.06.94-2.06 2.06-.94-2.06-.94-.94-2.06-.94 2.06-2.06.94z\"/><path d=\"M17.41 7.96l-1.37-1.37c-.4-.4-.92-.59-1.43-.59-.52 0-1.04.2-1.43.59L10.3 9.45l-7.72 7.72c-.78.78-.78 2.05 0 2.83L4 21.41c.39.39.9.59 1.41.59.51 0 1.02-.2 1.41-.59l7.78-7.78 2.81-2.81c.8-.78.8-2.07 0-2.86zM5.41 20L4 18.59l7.72-7.72 1.47 1.35L5.41 20z\"/>\n",
              "  </svg>\n",
              "      </button>\n",
              "      \n",
              "  <style>\n",
              "    .colab-df-container {\n",
              "      display:flex;\n",
              "      flex-wrap:wrap;\n",
              "      gap: 12px;\n",
              "    }\n",
              "\n",
              "    .colab-df-convert {\n",
              "      background-color: #E8F0FE;\n",
              "      border: none;\n",
              "      border-radius: 50%;\n",
              "      cursor: pointer;\n",
              "      display: none;\n",
              "      fill: #1967D2;\n",
              "      height: 32px;\n",
              "      padding: 0 0 0 0;\n",
              "      width: 32px;\n",
              "    }\n",
              "\n",
              "    .colab-df-convert:hover {\n",
              "      background-color: #E2EBFA;\n",
              "      box-shadow: 0px 1px 2px rgba(60, 64, 67, 0.3), 0px 1px 3px 1px rgba(60, 64, 67, 0.15);\n",
              "      fill: #174EA6;\n",
              "    }\n",
              "\n",
              "    [theme=dark] .colab-df-convert {\n",
              "      background-color: #3B4455;\n",
              "      fill: #D2E3FC;\n",
              "    }\n",
              "\n",
              "    [theme=dark] .colab-df-convert:hover {\n",
              "      background-color: #434B5C;\n",
              "      box-shadow: 0px 1px 3px 1px rgba(0, 0, 0, 0.15);\n",
              "      filter: drop-shadow(0px 1px 2px rgba(0, 0, 0, 0.3));\n",
              "      fill: #FFFFFF;\n",
              "    }\n",
              "  </style>\n",
              "\n",
              "      <script>\n",
              "        const buttonEl =\n",
              "          document.querySelector('#df-03c29546-fa59-4d89-be33-daafec81733e button.colab-df-convert');\n",
              "        buttonEl.style.display =\n",
              "          google.colab.kernel.accessAllowed ? 'block' : 'none';\n",
              "\n",
              "        async function convertToInteractive(key) {\n",
              "          const element = document.querySelector('#df-03c29546-fa59-4d89-be33-daafec81733e');\n",
              "          const dataTable =\n",
              "            await google.colab.kernel.invokeFunction('convertToInteractive',\n",
              "                                                     [key], {});\n",
              "          if (!dataTable) return;\n",
              "\n",
              "          const docLinkHtml = 'Like what you see? Visit the ' +\n",
              "            '<a target=\"_blank\" href=https://colab.research.google.com/notebooks/data_table.ipynb>data table notebook</a>'\n",
              "            + ' to learn more about interactive tables.';\n",
              "          element.innerHTML = '';\n",
              "          dataTable['output_type'] = 'display_data';\n",
              "          await google.colab.output.renderOutput(dataTable, element);\n",
              "          const docLink = document.createElement('div');\n",
              "          docLink.innerHTML = docLinkHtml;\n",
              "          element.appendChild(docLink);\n",
              "        }\n",
              "      </script>\n",
              "    </div>\n",
              "  </div>\n",
              "  "
            ]
          },
          "metadata": {},
          "execution_count": 225
        }
      ]
    },
    {
      "cell_type": "code",
      "source": [
        "# null values\n",
        "df.isnull().sum().sort_values(ascending=False)"
      ],
      "metadata": {
        "colab": {
          "base_uri": "https://localhost:8080/"
        },
        "id": "gYuYaCkIApQ_",
        "outputId": "5f6d7c55-d8bb-4f4a-ec8f-3675ea66117b"
      },
      "execution_count": null,
      "outputs": [
        {
          "output_type": "execute_result",
          "data": {
            "text/plain": [
              "age          0\n",
              "day          0\n",
              "poutcome     0\n",
              "previous     0\n",
              "pdays        0\n",
              "campaign     0\n",
              "duration     0\n",
              "month        0\n",
              "contact      0\n",
              "job          0\n",
              "loan         0\n",
              "housing      0\n",
              "balance      0\n",
              "default      0\n",
              "education    0\n",
              "marital      0\n",
              "y            0\n",
              "dtype: int64"
            ]
          },
          "metadata": {},
          "execution_count": 226
        }
      ]
    },
    {
      "cell_type": "code",
      "source": [
        "#EDA\n",
        "import seaborn as sns\n",
        "sns.boxplot(x='y',y='age',data=df,palette='Set1').set(title='Class&Age') #Age might not affect classification"
      ],
      "metadata": {
        "colab": {
          "base_uri": "https://localhost:8080/",
          "height": 313
        },
        "id": "MQyLM3brhbzd",
        "outputId": "555d8d49-d0eb-41e8-a337-b24e0df0a2b5"
      },
      "execution_count": null,
      "outputs": [
        {
          "output_type": "execute_result",
          "data": {
            "text/plain": [
              "[Text(0.5, 1.0, 'Class&Age')]"
            ]
          },
          "metadata": {},
          "execution_count": 227
        },
        {
          "output_type": "display_data",
          "data": {
            "text/plain": [
              "<Figure size 432x288 with 1 Axes>"
            ],
            "image/png": "[encoded data removed]"
          },
          "metadata": {
            "needs_background": "light"
          }
        }
      ]
    },
    {
      "cell_type": "code",
      "source": [
        "sns.boxplot(x='y',y='day',data=df,palette='Set1').set(title='Class&Day')"
      ],
      "metadata": {
        "colab": {
          "base_uri": "https://localhost:8080/",
          "height": 313
        },
        "id": "MXnuG0fZh3Ic",
        "outputId": "eebf0f60-3a89-4ad0-be72-85083458d466"
      },
      "execution_count": null,
      "outputs": [
        {
          "output_type": "execute_result",
          "data": {
            "text/plain": [
              "[Text(0.5, 1.0, 'Class&Day')]"
            ]
          },
          "metadata": {},
          "execution_count": 228
        },
        {
          "output_type": "display_data",
          "data": {
            "text/plain": [
              "<Figure size 432x288 with 1 Axes>"
            ],
            "image/png": "[encoded data removed]"
          },
          "metadata": {
            "needs_background": "light"
          }
        }
      ]
    },
    {
      "cell_type": "code",
      "source": [
        "sns.boxplot(x='y',y='duration',data=df,palette='Set1').set(title='Class&Duration')"
      ],
      "metadata": {
        "colab": {
          "base_uri": "https://localhost:8080/",
          "height": 313
        },
        "id": "hmWFmk7KiC7d",
        "outputId": "a1fd95e7-7b3c-47ab-b07f-9cf0777f71f4"
      },
      "execution_count": null,
      "outputs": [
        {
          "output_type": "execute_result",
          "data": {
            "text/plain": [
              "[Text(0.5, 1.0, 'Class&Duration')]"
            ]
          },
          "metadata": {},
          "execution_count": 229
        },
        {
          "output_type": "display_data",
          "data": {
            "text/plain": [
              "<Figure size 432x288 with 1 Axes>"
            ],
            "image/png": "[encoded data removed]"
          },
          "metadata": {
            "needs_background": "light"
          }
        }
      ]
    },
    {
      "cell_type": "code",
      "source": [
        "sns.countplot(x='y',data=df,palette='Set1').set(title='Class distribution') #Class imbalance"
      ],
      "metadata": {
        "colab": {
          "base_uri": "https://localhost:8080/",
          "height": 313
        },
        "id": "PWLwUZKXfi4P",
        "outputId": "fe839da3-dcae-4456-9a01-84e37c92fa95"
      },
      "execution_count": null,
      "outputs": [
        {
          "output_type": "execute_result",
          "data": {
            "text/plain": [
              "[Text(0.5, 1.0, 'Class distribution')]"
            ]
          },
          "metadata": {},
          "execution_count": 230
        },
        {
          "output_type": "display_data",
          "data": {
            "text/plain": [
              "<Figure size 432x288 with 1 Axes>"
            ],
            "image/png": "[encoded data removed]"
          },
          "metadata": {
            "needs_background": "light"
          }
        }
      ]
    },
    {
      "cell_type": "code",
      "source": [
        "sns.countplot(x='y',hue='housing',data=df,palette='Set1').set(title='Class&Housing')"
      ],
      "metadata": {
        "colab": {
          "base_uri": "https://localhost:8080/",
          "height": 313
        },
        "id": "1FHttU-nhPBI",
        "outputId": "e8a463f2-3bcf-4b0b-9f3f-887045f09894"
      },
      "execution_count": null,
      "outputs": [
        {
          "output_type": "execute_result",
          "data": {
            "text/plain": [
              "[Text(0.5, 1.0, 'Class&Housing')]"
            ]
          },
          "metadata": {},
          "execution_count": 231
        },
        {
          "output_type": "display_data",
          "data": {
            "text/plain": [
              "<Figure size 432x288 with 1 Axes>"
            ],
            "image/png": "[encoded data removed]"
          },
          "metadata": {
            "needs_background": "light"
          }
        }
      ]
    },
    {
      "cell_type": "code",
      "source": [
        "job = pd.get_dummies(df['job'],drop_first = True)\n",
        "marital = pd.get_dummies(df['marital'],drop_first = True)\n",
        "education = pd.get_dummies(df['education'],drop_first = True)\n",
        "housing = pd.get_dummies(df['housing'],drop_first = True)\n",
        "loan = pd.get_dummies(df['loan'],drop_first = True)\n",
        "contact = pd.get_dummies(df['contact'],drop_first = True)\n",
        "month = pd.get_dummies(df['month'],drop_first = True)\n",
        "poutcome = pd.get_dummies(df['poutcome'],drop_first = True)\n",
        "\n",
        "#df = df.drop(['default','job','marital','education','housing','loan','contact','month','poutcome'],axis=1,inplace=True)\n",
        "\n",
        "df=pd.concat([df,job,marital,education,housing,loan,contact,month,poutcome],axis=1)"
      ],
      "metadata": {
        "id": "ef6Q-Xx9ic9N"
      },
      "execution_count": null,
      "outputs": []
    },
    {
      "cell_type": "code",
      "source": [
        "df"
      ],
      "metadata": {
        "colab": {
          "base_uri": "https://localhost:8080/",
          "height": 423
        },
        "id": "VBd8DL9dtofN",
        "outputId": "a8ce5f09-b20f-48d1-e1f1-e542d62f044f"
      },
      "execution_count": null,
      "outputs": [
        {
          "output_type": "execute_result",
          "data": {
            "text/plain": [
              "             age          job  marital  education default  balance housing  \\\n",
              "0      36.000000   management  married   tertiary      no      101     yes   \n",
              "1      57.000000   technician  married    unknown      no      206     yes   \n",
              "2      54.000000     services  married  secondary     yes        0     yes   \n",
              "3      51.000000  blue-collar  married  secondary      no       50     yes   \n",
              "4      49.000000   technician  married    unknown      no       15      no   \n",
              "...          ...          ...      ...        ...     ...      ...     ...   \n",
              "42595  28.000000   unemployed   single    Unknown      no        0      no   \n",
              "42596  40.725015  blue-collar  married    Unknown      no      175     yes   \n",
              "42597  40.725015  blue-collar  married    Unknown      no        4     yes   \n",
              "42598  43.000000   management  married    Unknown      no      704      no   \n",
              "42599  49.000000   management   single    Unknown      no      -18     yes   \n",
              "\n",
              "          loan   contact  day  ... jul  jun  mar  may  nov oct sep  other  \\\n",
              "0          yes   unknown    5  ...   0    0    0    1    0   0   0      0   \n",
              "1           no   unknown    5  ...   0    0    0    1    0   0   0      0   \n",
              "2           no   unknown    6  ...   0    0    0    1    0   0   0      0   \n",
              "3          yes   unknown    6  ...   0    0    0    1    0   0   0      0   \n",
              "4           no   unknown    6  ...   0    0    0    1    0   0   0      0   \n",
              "...        ...       ...  ...  ...  ..  ...  ...  ...  ...  ..  ..    ...   \n",
              "42595  Unknown  cellular    6  ...   0    0    0    0    0   0   0      0   \n",
              "42596  Unknown  cellular    4  ...   0    0    0    0    0   0   0      1   \n",
              "42597  Unknown  cellular    8  ...   1    0    0    0    0   0   0      0   \n",
              "42598  Unknown  cellular   18  ...   1    0    0    0    0   0   0      0   \n",
              "42599  Unknown  cellular   11  ...   0    0    0    1    0   0   0      0   \n",
              "\n",
              "       success  unknown  \n",
              "0            0        1  \n",
              "1            0        1  \n",
              "2            0        1  \n",
              "3            0        1  \n",
              "4            0        1  \n",
              "...        ...      ...  \n",
              "42595        0        1  \n",
              "42596        0        0  \n",
              "42597        0        1  \n",
              "42598        0        1  \n",
              "42599        0        0  \n",
              "\n",
              "[42600 rows x 55 columns]"
            ],
            "text/html": [
              "\n",
              "  <div id=\"df-dde5e9ef-2b31-45cf-8ab9-3ad505e54349\">\n",
              "    <div class=\"colab-df-container\">\n",
              "      <div>\n",
              "<style scoped>\n",
              "    .dataframe tbody tr th:only-of-type {\n",
              "        vertical-align: middle;\n",
              "    }\n",
              "\n",
              "    .dataframe tbody tr th {\n",
              "        vertical-align: top;\n",
              "    }\n",
              "\n",
              "    .dataframe thead th {\n",
              "        text-align: right;\n",
              "    }\n",
              "</style>\n",
              "<table border=\"1\" class=\"dataframe\">\n",
              "  <thead>\n",
              "    <tr style=\"text-align: right;\">\n",
              "      <th></th>\n",
              "      <th>age</th>\n",
              "      <th>job</th>\n",
              "      <th>marital</th>\n",
              "      <th>education</th>\n",
              "      <th>default</th>\n",
              "      <th>balance</th>\n",
              "      <th>housing</th>\n",
              "      <th>loan</th>\n",
              "      <th>contact</th>\n",
              "      <th>day</th>\n",
              "      <th>...</th>\n",
              "      <th>jul</th>\n",
              "      <th>jun</th>\n",
              "      <th>mar</th>\n",
              "      <th>may</th>\n",
              "      <th>nov</th>\n",
              "      <th>oct</th>\n",
              "      <th>sep</th>\n",
              "      <th>other</th>\n",
              "      <th>success</th>\n",
              "      <th>unknown</th>\n",
              "    </tr>\n",
              "  </thead>\n",
              "  <tbody>\n",
              "    <tr>\n",
              "      <th>0</th>\n",
              "      <td>36.000000</td>\n",
              "      <td>management</td>\n",
              "      <td>married</td>\n",
              "      <td>tertiary</td>\n",
              "      <td>no</td>\n",
              "      <td>101</td>\n",
              "      <td>yes</td>\n",
              "      <td>yes</td>\n",
              "      <td>unknown</td>\n",
              "      <td>5</td>\n",
              "      <td>...</td>\n",
              "      <td>0</td>\n",
              "      <td>0</td>\n",
              "      <td>0</td>\n",
              "      <td>1</td>\n",
              "      <td>0</td>\n",
              "      <td>0</td>\n",
              "      <td>0</td>\n",
              "      <td>0</td>\n",
              "      <td>0</td>\n",
              "      <td>1</td>\n",
              "    </tr>\n",
              "    <tr>\n",
              "      <th>1</th>\n",
              "      <td>57.000000</td>\n",
              "      <td>technician</td>\n",
              "      <td>married</td>\n",
              "      <td>unknown</td>\n",
              "      <td>no</td>\n",
              "      <td>206</td>\n",
              "      <td>yes</td>\n",
              "      <td>no</td>\n",
              "      <td>unknown</td>\n",
              "      <td>5</td>\n",
              "      <td>...</td>\n",
              "      <td>0</td>\n",
              "      <td>0</td>\n",
              "      <td>0</td>\n",
              "      <td>1</td>\n",
              "      <td>0</td>\n",
              "      <td>0</td>\n",
              "      <td>0</td>\n",
              "      <td>0</td>\n",
              "      <td>0</td>\n",
              "      <td>1</td>\n",
              "    </tr>\n",
              "    <tr>\n",
              "      <th>2</th>\n",
              "      <td>54.000000</td>\n",
              "      <td>services</td>\n",
              "      <td>married</td>\n",
              "      <td>secondary</td>\n",
              "      <td>yes</td>\n",
              "      <td>0</td>\n",
              "      <td>yes</td>\n",
              "      <td>no</td>\n",
              "      <td>unknown</td>\n",
              "      <td>6</td>\n",
              "      <td>...</td>\n",
              "      <td>0</td>\n",
              "      <td>0</td>\n",
              "      <td>0</td>\n",
              "      <td>1</td>\n",
              "      <td>0</td>\n",
              "      <td>0</td>\n",
              "      <td>0</td>\n",
              "      <td>0</td>\n",
              "      <td>0</td>\n",
              "      <td>1</td>\n",
              "    </tr>\n",
              "    <tr>\n",
              "      <th>3</th>\n",
              "      <td>51.000000</td>\n",
              "      <td>blue-collar</td>\n",
              "      <td>married</td>\n",
              "      <td>secondary</td>\n",
              "      <td>no</td>\n",
              "      <td>50</td>\n",
              "      <td>yes</td>\n",
              "      <td>yes</td>\n",
              "      <td>unknown</td>\n",
              "      <td>6</td>\n",
              "      <td>...</td>\n",
              "      <td>0</td>\n",
              "      <td>0</td>\n",
              "      <td>0</td>\n",
              "      <td>1</td>\n",
              "      <td>0</td>\n",
              "      <td>0</td>\n",
              "      <td>0</td>\n",
              "      <td>0</td>\n",
              "      <td>0</td>\n",
              "      <td>1</td>\n",
              "    </tr>\n",
              "    <tr>\n",
              "      <th>4</th>\n",
              "      <td>49.000000</td>\n",
              "      <td>technician</td>\n",
              "      <td>married</td>\n",
              "      <td>unknown</td>\n",
              "      <td>no</td>\n",
              "      <td>15</td>\n",
              "      <td>no</td>\n",
              "      <td>no</td>\n",
              "      <td>unknown</td>\n",
              "      <td>6</td>\n",
              "      <td>...</td>\n",
              "      <td>0</td>\n",
              "      <td>0</td>\n",
              "      <td>0</td>\n",
              "      <td>1</td>\n",
              "      <td>0</td>\n",
              "      <td>0</td>\n",
              "      <td>0</td>\n",
              "      <td>0</td>\n",
              "      <td>0</td>\n",
              "      <td>1</td>\n",
              "    </tr>\n",
              "    <tr>\n",
              "      <th>...</th>\n",
              "      <td>...</td>\n",
              "      <td>...</td>\n",
              "      <td>...</td>\n",
              "      <td>...</td>\n",
              "      <td>...</td>\n",
              "      <td>...</td>\n",
              "      <td>...</td>\n",
              "      <td>...</td>\n",
              "      <td>...</td>\n",
              "      <td>...</td>\n",
              "      <td>...</td>\n",
              "      <td>...</td>\n",
              "      <td>...</td>\n",
              "      <td>...</td>\n",
              "      <td>...</td>\n",
              "      <td>...</td>\n",
              "      <td>...</td>\n",
              "      <td>...</td>\n",
              "      <td>...</td>\n",
              "      <td>...</td>\n",
              "      <td>...</td>\n",
              "    </tr>\n",
              "    <tr>\n",
              "      <th>42595</th>\n",
              "      <td>28.000000</td>\n",
              "      <td>unemployed</td>\n",
              "      <td>single</td>\n",
              "      <td>Unknown</td>\n",
              "      <td>no</td>\n",
              "      <td>0</td>\n",
              "      <td>no</td>\n",
              "      <td>Unknown</td>\n",
              "      <td>cellular</td>\n",
              "      <td>6</td>\n",
              "      <td>...</td>\n",
              "      <td>0</td>\n",
              "      <td>0</td>\n",
              "      <td>0</td>\n",
              "      <td>0</td>\n",
              "      <td>0</td>\n",
              "      <td>0</td>\n",
              "      <td>0</td>\n",
              "      <td>0</td>\n",
              "      <td>0</td>\n",
              "      <td>1</td>\n",
              "    </tr>\n",
              "    <tr>\n",
              "      <th>42596</th>\n",
              "      <td>40.725015</td>\n",
              "      <td>blue-collar</td>\n",
              "      <td>married</td>\n",
              "      <td>Unknown</td>\n",
              "      <td>no</td>\n",
              "      <td>175</td>\n",
              "      <td>yes</td>\n",
              "      <td>Unknown</td>\n",
              "      <td>cellular</td>\n",
              "      <td>4</td>\n",
              "      <td>...</td>\n",
              "      <td>0</td>\n",
              "      <td>0</td>\n",
              "      <td>0</td>\n",
              "      <td>0</td>\n",
              "      <td>0</td>\n",
              "      <td>0</td>\n",
              "      <td>0</td>\n",
              "      <td>1</td>\n",
              "      <td>0</td>\n",
              "      <td>0</td>\n",
              "    </tr>\n",
              "    <tr>\n",
              "      <th>42597</th>\n",
              "      <td>40.725015</td>\n",
              "      <td>blue-collar</td>\n",
              "      <td>married</td>\n",
              "      <td>Unknown</td>\n",
              "      <td>no</td>\n",
              "      <td>4</td>\n",
              "      <td>yes</td>\n",
              "      <td>Unknown</td>\n",
              "      <td>cellular</td>\n",
              "      <td>8</td>\n",
              "      <td>...</td>\n",
              "      <td>1</td>\n",
              "      <td>0</td>\n",
              "      <td>0</td>\n",
              "      <td>0</td>\n",
              "      <td>0</td>\n",
              "      <td>0</td>\n",
              "      <td>0</td>\n",
              "      <td>0</td>\n",
              "      <td>0</td>\n",
              "      <td>1</td>\n",
              "    </tr>\n",
              "    <tr>\n",
              "      <th>42598</th>\n",
              "      <td>43.000000</td>\n",
              "      <td>management</td>\n",
              "      <td>married</td>\n",
              "      <td>Unknown</td>\n",
              "      <td>no</td>\n",
              "      <td>704</td>\n",
              "      <td>no</td>\n",
              "      <td>Unknown</td>\n",
              "      <td>cellular</td>\n",
              "      <td>18</td>\n",
              "      <td>...</td>\n",
              "      <td>1</td>\n",
              "      <td>0</td>\n",
              "      <td>0</td>\n",
              "      <td>0</td>\n",
              "      <td>0</td>\n",
              "      <td>0</td>\n",
              "      <td>0</td>\n",
              "      <td>0</td>\n",
              "      <td>0</td>\n",
              "      <td>1</td>\n",
              "    </tr>\n",
              "    <tr>\n",
              "      <th>42599</th>\n",
              "      <td>49.000000</td>\n",
              "      <td>management</td>\n",
              "      <td>single</td>\n",
              "      <td>Unknown</td>\n",
              "      <td>no</td>\n",
              "      <td>-18</td>\n",
              "      <td>yes</td>\n",
              "      <td>Unknown</td>\n",
              "      <td>cellular</td>\n",
              "      <td>11</td>\n",
              "      <td>...</td>\n",
              "      <td>0</td>\n",
              "      <td>0</td>\n",
              "      <td>0</td>\n",
              "      <td>1</td>\n",
              "      <td>0</td>\n",
              "      <td>0</td>\n",
              "      <td>0</td>\n",
              "      <td>0</td>\n",
              "      <td>0</td>\n",
              "      <td>0</td>\n",
              "    </tr>\n",
              "  </tbody>\n",
              "</table>\n",
              "<p>42600 rows × 55 columns</p>\n",
              "</div>\n",
              "      <button class=\"colab-df-convert\" onclick=\"convertToInteractive('df-dde5e9ef-2b31-45cf-8ab9-3ad505e54349')\"\n",
              "              title=\"Convert this dataframe to an interactive table.\"\n",
              "              style=\"display:none;\">\n",
              "        \n",
              "  <svg xmlns=\"http://www.w3.org/2000/svg\" height=\"24px\"viewBox=\"0 0 24 24\"\n",
              "       width=\"24px\">\n",
              "    <path d=\"M0 0h24v24H0V0z\" fill=\"none\"/>\n",
              "    <path d=\"M18.56 5.44l.94 2.06.94-2.06 2.06-.94-2.06-.94-.94-2.06-.94 2.06-2.06.94zm-11 1L8.5 8.5l.94-2.06 2.06-.94-2.06-.94L8.5 2.5l-.94 2.06-2.06.94zm10 10l.94 2.06.94-2.06 2.06-.94-2.06-.94-.94-2.06-.94 2.06-2.06.94z\"/><path d=\"M17.41 7.96l-1.37-1.37c-.4-.4-.92-.59-1.43-.59-.52 0-1.04.2-1.43.59L10.3 9.45l-7.72 7.72c-.78.78-.78 2.05 0 2.83L4 21.41c.39.39.9.59 1.41.59.51 0 1.02-.2 1.41-.59l7.78-7.78 2.81-2.81c.8-.78.8-2.07 0-2.86zM5.41 20L4 18.59l7.72-7.72 1.47 1.35L5.41 20z\"/>\n",
              "  </svg>\n",
              "      </button>\n",
              "      \n",
              "  <style>\n",
              "    .colab-df-container {\n",
              "      display:flex;\n",
              "      flex-wrap:wrap;\n",
              "      gap: 12px;\n",
              "    }\n",
              "\n",
              "    .colab-df-convert {\n",
              "      background-color: #E8F0FE;\n",
              "      border: none;\n",
              "      border-radius: 50%;\n",
              "      cursor: pointer;\n",
              "      display: none;\n",
              "      fill: #1967D2;\n",
              "      height: 32px;\n",
              "      padding: 0 0 0 0;\n",
              "      width: 32px;\n",
              "    }\n",
              "\n",
              "    .colab-df-convert:hover {\n",
              "      background-color: #E2EBFA;\n",
              "      box-shadow: 0px 1px 2px rgba(60, 64, 67, 0.3), 0px 1px 3px 1px rgba(60, 64, 67, 0.15);\n",
              "      fill: #174EA6;\n",
              "    }\n",
              "\n",
              "    [theme=dark] .colab-df-convert {\n",
              "      background-color: #3B4455;\n",
              "      fill: #D2E3FC;\n",
              "    }\n",
              "\n",
              "    [theme=dark] .colab-df-convert:hover {\n",
              "      background-color: #434B5C;\n",
              "      box-shadow: 0px 1px 3px 1px rgba(0, 0, 0, 0.15);\n",
              "      filter: drop-shadow(0px 1px 2px rgba(0, 0, 0, 0.3));\n",
              "      fill: #FFFFFF;\n",
              "    }\n",
              "  </style>\n",
              "\n",
              "      <script>\n",
              "        const buttonEl =\n",
              "          document.querySelector('#df-dde5e9ef-2b31-45cf-8ab9-3ad505e54349 button.colab-df-convert');\n",
              "        buttonEl.style.display =\n",
              "          google.colab.kernel.accessAllowed ? 'block' : 'none';\n",
              "\n",
              "        async function convertToInteractive(key) {\n",
              "          const element = document.querySelector('#df-dde5e9ef-2b31-45cf-8ab9-3ad505e54349');\n",
              "          const dataTable =\n",
              "            await google.colab.kernel.invokeFunction('convertToInteractive',\n",
              "                                                     [key], {});\n",
              "          if (!dataTable) return;\n",
              "\n",
              "          const docLinkHtml = 'Like what you see? Visit the ' +\n",
              "            '<a target=\"_blank\" href=https://colab.research.google.com/notebooks/data_table.ipynb>data table notebook</a>'\n",
              "            + ' to learn more about interactive tables.';\n",
              "          element.innerHTML = '';\n",
              "          dataTable['output_type'] = 'display_data';\n",
              "          await google.colab.output.renderOutput(dataTable, element);\n",
              "          const docLink = document.createElement('div');\n",
              "          docLink.innerHTML = docLinkHtml;\n",
              "          element.appendChild(docLink);\n",
              "        }\n",
              "      </script>\n",
              "    </div>\n",
              "  </div>\n",
              "  "
            ]
          },
          "metadata": {},
          "execution_count": 233
        }
      ]
    },
    {
      "cell_type": "code",
      "source": [
        "df.drop(['default','job','marital','education','housing','loan','contact','month','poutcome'],axis=1,inplace=True)\n",
        "print(df.columns)"
      ],
      "metadata": {
        "colab": {
          "base_uri": "https://localhost:8080/"
        },
        "id": "rFBdTVzpCrY2",
        "outputId": "ea0d66ae-45bc-4688-bd52-63740af66e2a"
      },
      "execution_count": null,
      "outputs": [
        {
          "output_type": "stream",
          "name": "stdout",
          "text": [
            "Index(['age', 'balance', 'day', 'duration', 'campaign', 'pdays', 'previous',\n",
            "       'y', 'admin.', 'blue-collar', 'entrepreneur', 'housemaid', 'management',\n",
            "       'retired', 'self-employed', 'services', 'student', 'technician',\n",
            "       'unemployed', 'unknown', 'divorced', 'married', 'single', 'primary',\n",
            "       'secondary', 'tertiary', 'unknown', 'yes', 'no', 'yes', 'telephone',\n",
            "       'unknown', 'aug', 'dec', 'feb', 'jan', 'jul', 'jun', 'mar', 'may',\n",
            "       'nov', 'oct', 'sep', 'other', 'success', 'unknown'],\n",
            "      dtype='object')\n"
          ]
        }
      ]
    },
    {
      "cell_type": "code",
      "source": [
        "df = df.drop(['unknown','yes','other'],axis = 1)\n",
        "print(df.head())"
      ],
      "metadata": {
        "colab": {
          "base_uri": "https://localhost:8080/"
        },
        "id": "UIbmIh5KuoCk",
        "outputId": "9135671f-7adb-4dfc-8378-61f52832822a"
      },
      "execution_count": null,
      "outputs": [
        {
          "output_type": "stream",
          "name": "stdout",
          "text": [
            "    age  balance  day  duration  campaign  pdays  previous   y  admin.  \\\n",
            "0  36.0      101    5       426         1     -1         0  no       0   \n",
            "1  57.0      206    5       216         3     -1         0  no       0   \n",
            "2  54.0        0    6       138         3     -1         0  no       0   \n",
            "3  51.0       50    6       121         1     -1         0  no       0   \n",
            "4  49.0       15    6        92         2     -1         0  no       0   \n",
            "\n",
            "   blue-collar  ...  feb  jan  jul  jun  mar  may  nov  oct  sep  success  \n",
            "0            0  ...    0    0    0    0    0    1    0    0    0        0  \n",
            "1            0  ...    0    0    0    0    0    1    0    0    0        0  \n",
            "2            0  ...    0    0    0    0    0    1    0    0    0        0  \n",
            "3            1  ...    0    0    0    0    0    1    0    0    0        0  \n",
            "4            0  ...    0    0    0    0    0    1    0    0    0        0  \n",
            "\n",
            "[5 rows x 39 columns]\n"
          ]
        }
      ]
    },
    {
      "cell_type": "code",
      "source": [
        "# null values\n",
        "df.isnull().sum().sort_values(ascending=False)"
      ],
      "metadata": {
        "colab": {
          "base_uri": "https://localhost:8080/"
        },
        "id": "IxBEEeInvsT1",
        "outputId": "f7dcfea7-8efa-49be-e290-089a7e5b3330"
      },
      "execution_count": null,
      "outputs": [
        {
          "output_type": "execute_result",
          "data": {
            "text/plain": [
              "age              0\n",
              "feb              0\n",
              "primary          0\n",
              "secondary        0\n",
              "tertiary         0\n",
              "no               0\n",
              "telephone        0\n",
              "aug              0\n",
              "dec              0\n",
              "jan              0\n",
              "married          0\n",
              "jul              0\n",
              "jun              0\n",
              "mar              0\n",
              "may              0\n",
              "nov              0\n",
              "oct              0\n",
              "sep              0\n",
              "single           0\n",
              "divorced         0\n",
              "balance          0\n",
              "blue-collar      0\n",
              "day              0\n",
              "duration         0\n",
              "campaign         0\n",
              "pdays            0\n",
              "previous         0\n",
              "y                0\n",
              "admin.           0\n",
              "entrepreneur     0\n",
              "unemployed       0\n",
              "housemaid        0\n",
              "management       0\n",
              "retired          0\n",
              "self-employed    0\n",
              "services         0\n",
              "student          0\n",
              "technician       0\n",
              "success          0\n",
              "dtype: int64"
            ]
          },
          "metadata": {},
          "execution_count": 236
        }
      ]
    },
    {
      "cell_type": "code",
      "source": [
        "import numpy as np\n",
        "'''Outlier Detection '''\n",
        "# IQR\n",
        "# balance is taken because it has highest variance\n",
        "Q1 = np.percentile(df['balance'], 25,\n",
        "                   interpolation = 'midpoint')\n",
        "\n",
        "Q3 = np.percentile(df['balance'], 75,\n",
        "                   interpolation = 'midpoint')\n",
        "IQR = Q3 - Q1"
      ],
      "metadata": {
        "id": "XXgGXaONv6Yc"
      },
      "execution_count": null,
      "outputs": []
    },
    {
      "cell_type": "code",
      "source": [
        "print(\"Old Shape: \", df.shape)\n",
        "\n",
        "# Upper bound\n",
        "upper = np.where(df['balance'] >= (Q3+1.5*IQR))\n",
        "# Lower bound\n",
        "lower = np.where(df['balance'] <= (Q1-1.5*IQR))\n",
        "\n",
        "''' Removing the Outliers '''\n",
        "df.drop(upper[0], inplace = True)\n",
        "df.drop(lower[0], inplace = True)\n",
        "\n",
        "print(\"New Shape: \", df.shape)"
      ],
      "metadata": {
        "colab": {
          "base_uri": "https://localhost:8080/"
        },
        "id": "Y3SmCoh07BYn",
        "outputId": "6b637ae6-cd07-42f9-9333-84489d86f565"
      },
      "execution_count": null,
      "outputs": [
        {
          "output_type": "stream",
          "name": "stdout",
          "text": [
            "Old Shape:  (42600, 39)\n",
            "New Shape:  (38096, 39)\n"
          ]
        },
        {
          "output_type": "stream",
          "name": "stderr",
          "text": [
            "/usr/local/lib/python3.7/dist-packages/pandas/core/frame.py:4913: SettingWithCopyWarning: \n",
            "A value is trying to be set on a copy of a slice from a DataFrame\n",
            "\n",
            "See the caveats in the documentation: https://pandas.pydata.org/pandas-docs/stable/user_guide/indexing.html#returning-a-view-versus-a-copy\n",
            "  errors=errors,\n"
          ]
        }
      ]
    },
    {
      "cell_type": "code",
      "source": [
        "# null values\n",
        "df.isnull().sum().sort_values(ascending=False)"
      ],
      "metadata": {
        "colab": {
          "base_uri": "https://localhost:8080/"
        },
        "id": "uLb4fjdr7P9Z",
        "outputId": "62f43373-f136-4c1d-e8f8-7671489d207b"
      },
      "execution_count": null,
      "outputs": [
        {
          "output_type": "execute_result",
          "data": {
            "text/plain": [
              "age              0\n",
              "feb              0\n",
              "primary          0\n",
              "secondary        0\n",
              "tertiary         0\n",
              "no               0\n",
              "telephone        0\n",
              "aug              0\n",
              "dec              0\n",
              "jan              0\n",
              "married          0\n",
              "jul              0\n",
              "jun              0\n",
              "mar              0\n",
              "may              0\n",
              "nov              0\n",
              "oct              0\n",
              "sep              0\n",
              "single           0\n",
              "divorced         0\n",
              "balance          0\n",
              "blue-collar      0\n",
              "day              0\n",
              "duration         0\n",
              "campaign         0\n",
              "pdays            0\n",
              "previous         0\n",
              "y                0\n",
              "admin.           0\n",
              "entrepreneur     0\n",
              "unemployed       0\n",
              "housemaid        0\n",
              "management       0\n",
              "retired          0\n",
              "self-employed    0\n",
              "services         0\n",
              "student          0\n",
              "technician       0\n",
              "success          0\n",
              "dtype: int64"
            ]
          },
          "metadata": {},
          "execution_count": 239
        }
      ]
    },
    {
      "cell_type": "code",
      "source": [
        "df.info()"
      ],
      "metadata": {
        "colab": {
          "base_uri": "https://localhost:8080/"
        },
        "id": "cu9vnsPUDf53",
        "outputId": "b2cb770e-04be-4dcf-8b25-d5d9c9f32e71"
      },
      "execution_count": null,
      "outputs": [
        {
          "output_type": "stream",
          "name": "stdout",
          "text": [
            "<class 'pandas.core.frame.DataFrame'>\n",
            "Int64Index: 38096 entries, 0 to 42599\n",
            "Data columns (total 39 columns):\n",
            " #   Column         Non-Null Count  Dtype  \n",
            "---  ------         --------------  -----  \n",
            " 0   age            38096 non-null  float64\n",
            " 1   balance        38096 non-null  int64  \n",
            " 2   day            38096 non-null  int64  \n",
            " 3   duration       38096 non-null  int64  \n",
            " 4   campaign       38096 non-null  int64  \n",
            " 5   pdays          38096 non-null  int64  \n",
            " 6   previous       38096 non-null  int64  \n",
            " 7   y              38096 non-null  object \n",
            " 8   admin.         38096 non-null  uint8  \n",
            " 9   blue-collar    38096 non-null  uint8  \n",
            " 10  entrepreneur   38096 non-null  uint8  \n",
            " 11  housemaid      38096 non-null  uint8  \n",
            " 12  management     38096 non-null  uint8  \n",
            " 13  retired        38096 non-null  uint8  \n",
            " 14  self-employed  38096 non-null  uint8  \n",
            " 15  services       38096 non-null  uint8  \n",
            " 16  student        38096 non-null  uint8  \n",
            " 17  technician     38096 non-null  uint8  \n",
            " 18  unemployed     38096 non-null  uint8  \n",
            " 19  divorced       38096 non-null  uint8  \n",
            " 20  married        38096 non-null  uint8  \n",
            " 21  single         38096 non-null  uint8  \n",
            " 22  primary        38096 non-null  uint8  \n",
            " 23  secondary      38096 non-null  uint8  \n",
            " 24  tertiary       38096 non-null  uint8  \n",
            " 25  no             38096 non-null  uint8  \n",
            " 26  telephone      38096 non-null  uint8  \n",
            " 27  aug            38096 non-null  uint8  \n",
            " 28  dec            38096 non-null  uint8  \n",
            " 29  feb            38096 non-null  uint8  \n",
            " 30  jan            38096 non-null  uint8  \n",
            " 31  jul            38096 non-null  uint8  \n",
            " 32  jun            38096 non-null  uint8  \n",
            " 33  mar            38096 non-null  uint8  \n",
            " 34  may            38096 non-null  uint8  \n",
            " 35  nov            38096 non-null  uint8  \n",
            " 36  oct            38096 non-null  uint8  \n",
            " 37  sep            38096 non-null  uint8  \n",
            " 38  success        38096 non-null  uint8  \n",
            "dtypes: float64(1), int64(6), object(1), uint8(31)\n",
            "memory usage: 3.7+ MB\n"
          ]
        }
      ]
    },
    {
      "cell_type": "code",
      "source": [
        "set(list(df['y']))"
      ],
      "metadata": {
        "colab": {
          "base_uri": "https://localhost:8080/"
        },
        "id": "sN1moLZsDloR",
        "outputId": "28e888d3-141e-4cb6-c800-389474cb5b07"
      },
      "execution_count": null,
      "outputs": [
        {
          "output_type": "execute_result",
          "data": {
            "text/plain": [
              "{'no', 'yes'}"
            ]
          },
          "metadata": {},
          "execution_count": 241
        }
      ]
    },
    {
      "cell_type": "code",
      "source": [
        "labels = pd.DataFrame(df['y'])\n",
        "labels.y[labels.y=='yes'] = 1\n",
        "labels.y[labels.y=='no'] = 0\n",
        "df = df.drop(['y'],axis=1)\n",
        "df = df.apply(pd.to_numeric)\n",
        "labels = labels.apply(pd.to_numeric)"
      ],
      "metadata": {
        "id": "OVO5soHD8j05"
      },
      "execution_count": null,
      "outputs": []
    },
    {
      "cell_type": "code",
      "source": [
        "df.info()"
      ],
      "metadata": {
        "colab": {
          "base_uri": "https://localhost:8080/"
        },
        "id": "XPAocyJGA48n",
        "outputId": "18141d76-4816-48e0-8175-39323ce36a54"
      },
      "execution_count": null,
      "outputs": [
        {
          "output_type": "stream",
          "name": "stdout",
          "text": [
            "<class 'pandas.core.frame.DataFrame'>\n",
            "Int64Index: 38096 entries, 0 to 42599\n",
            "Data columns (total 38 columns):\n",
            " #   Column         Non-Null Count  Dtype  \n",
            "---  ------         --------------  -----  \n",
            " 0   age            38096 non-null  float64\n",
            " 1   balance        38096 non-null  int64  \n",
            " 2   day            38096 non-null  int64  \n",
            " 3   duration       38096 non-null  int64  \n",
            " 4   campaign       38096 non-null  int64  \n",
            " 5   pdays          38096 non-null  int64  \n",
            " 6   previous       38096 non-null  int64  \n",
            " 7   admin.         38096 non-null  uint8  \n",
            " 8   blue-collar    38096 non-null  uint8  \n",
            " 9   entrepreneur   38096 non-null  uint8  \n",
            " 10  housemaid      38096 non-null  uint8  \n",
            " 11  management     38096 non-null  uint8  \n",
            " 12  retired        38096 non-null  uint8  \n",
            " 13  self-employed  38096 non-null  uint8  \n",
            " 14  services       38096 non-null  uint8  \n",
            " 15  student        38096 non-null  uint8  \n",
            " 16  technician     38096 non-null  uint8  \n",
            " 17  unemployed     38096 non-null  uint8  \n",
            " 18  divorced       38096 non-null  uint8  \n",
            " 19  married        38096 non-null  uint8  \n",
            " 20  single         38096 non-null  uint8  \n",
            " 21  primary        38096 non-null  uint8  \n",
            " 22  secondary      38096 non-null  uint8  \n",
            " 23  tertiary       38096 non-null  uint8  \n",
            " 24  no             38096 non-null  uint8  \n",
            " 25  telephone      38096 non-null  uint8  \n",
            " 26  aug            38096 non-null  uint8  \n",
            " 27  dec            38096 non-null  uint8  \n",
            " 28  feb            38096 non-null  uint8  \n",
            " 29  jan            38096 non-null  uint8  \n",
            " 30  jul            38096 non-null  uint8  \n",
            " 31  jun            38096 non-null  uint8  \n",
            " 32  mar            38096 non-null  uint8  \n",
            " 33  may            38096 non-null  uint8  \n",
            " 34  nov            38096 non-null  uint8  \n",
            " 35  oct            38096 non-null  uint8  \n",
            " 36  sep            38096 non-null  uint8  \n",
            " 37  success        38096 non-null  uint8  \n",
            "dtypes: float64(1), int64(6), uint8(31)\n",
            "memory usage: 3.5 MB\n"
          ]
        }
      ]
    },
    {
      "cell_type": "code",
      "source": [
        "#feature scaling\n",
        "from sklearn.preprocessing import MinMaxScaler\n",
        "scaler = MinMaxScaler()\n",
        "X = df.values\n",
        "y = np.array(labels)\n",
        "print(X.shape)\n",
        "print(y.shape)\n",
        "X = scaler.fit_transform(X)\n",
        "print(X.shape)"
      ],
      "metadata": {
        "colab": {
          "base_uri": "https://localhost:8080/"
        },
        "id": "Qz3yv6s291Vr",
        "outputId": "c1a518c3-94b0-4a79-a899-c07afb1502db"
      },
      "execution_count": null,
      "outputs": [
        {
          "output_type": "stream",
          "name": "stdout",
          "text": [
            "(38096, 38)\n",
            "(38096, 1)\n",
            "(38096, 38)\n"
          ]
        }
      ]
    },
    {
      "cell_type": "code",
      "source": [
        "from imblearn.over_sampling import RandomOverSampler\n",
        "\n",
        "# define oversampling strategy\n",
        "oversample = RandomOverSampler(sampling_strategy='minority')\n",
        "\n",
        "# fit and apply the transform\n",
        "X_over, y_over = oversample.fit_resample(X, y)\n",
        "\n",
        "print(f'''Shape of X before: {X.shape}\n",
        "Shape of X after : {X_over.shape}''')\n",
        "\n",
        "print('\\nBalance of positive and negative classes (%):')\n",
        "pd.DataFrame(y_over).value_counts(normalize=True) * 100"
      ],
      "metadata": {
        "colab": {
          "base_uri": "https://localhost:8080/"
        },
        "id": "5v0dPrVU-xZP",
        "outputId": "a535e92b-7072-4bf0-c118-aa5e6aee91f1"
      },
      "execution_count": null,
      "outputs": [
        {
          "output_type": "stream",
          "name": "stdout",
          "text": [
            "Shape of X before SMOTE: (38096, 38)\n",
            "Shape of X after SMOTE: (69030, 38)\n",
            "\n",
            "Balance of positive and negative classes (%):\n"
          ]
        },
        {
          "output_type": "execute_result",
          "data": {
            "text/plain": [
              "0    50.0\n",
              "1    50.0\n",
              "dtype: float64"
            ]
          },
          "metadata": {},
          "execution_count": 250
        }
      ]
    },
    {
      "cell_type": "code",
      "source": [
        "#Feature Selection\n",
        "from sklearn.feature_selection import SelectKBest\n",
        "from sklearn.feature_selection import chi2\n",
        "X_new = SelectKBest(chi2, k=25).fit_transform(X_over, y_over)\n",
        "X_new.shape"
      ],
      "metadata": {
        "colab": {
          "base_uri": "https://localhost:8080/"
        },
        "id": "SGnsa4DRHbpz",
        "outputId": "5490b9ff-cef1-4833-f941-28aced34c160"
      },
      "execution_count": null,
      "outputs": [
        {
          "output_type": "execute_result",
          "data": {
            "text/plain": [
              "(69030, 25)"
            ]
          },
          "metadata": {},
          "execution_count": 252
        }
      ]
    },
    {
      "cell_type": "code",
      "source": [
        "from sklearn.model_selection import train_test_split\n",
        "X_train, X_test, y_train, y_test = train_test_split(\n",
        "    X_new, y_over, test_size=0.25, random_state=42,stratify=y_over\n",
        ")"
      ],
      "metadata": {
        "id": "UbRASnn9IMTZ"
      },
      "execution_count": null,
      "outputs": []
    },
    {
      "cell_type": "code",
      "source": [
        "from sklearn.ensemble import RandomForestClassifier\n",
        "from sklearn.metrics import accuracy_score, recall_score, confusion_matrix\n",
        "import matplotlib.pyplot as plt\n",
        "# Train\n",
        "model = RandomForestClassifier(random_state=42)\n",
        "model.fit(X_train, y_train)\n",
        "preds = model.predict(X_test)\n",
        "\n",
        "# Evaluate\n",
        "print(f'Accuracy = {accuracy_score(y_test, preds):.2f}\\nRecall = {recall_score(y_test, preds):.2f}\\n')\n",
        "cm = confusion_matrix(y_test, preds)\n",
        "plt.figure(figsize=(8, 6))\n",
        "plt.title('Confusion Matrix', size=16)\n",
        "sns.heatmap(cm, annot=True, cmap='Blues');"
      ],
      "metadata": {
        "colab": {
          "base_uri": "https://localhost:8080/",
          "height": 447
        },
        "id": "xSgwOOVyJI-B",
        "outputId": "57d33e26-66ad-498f-b8eb-412f6ab30153"
      },
      "execution_count": null,
      "outputs": [
        {
          "output_type": "stream",
          "name": "stdout",
          "text": [
            "Accuracy = 0.96\n",
            "Recall = 1.00\n",
            "\n"
          ]
        },
        {
          "output_type": "display_data",
          "data": {
            "text/plain": [
              "<Figure size 576x432 with 2 Axes>"
            ],
            "image/png": "[encoded data removed]"
          },
          "metadata": {
            "needs_background": "light"
          }
        }
      ]
    }
  ]
}